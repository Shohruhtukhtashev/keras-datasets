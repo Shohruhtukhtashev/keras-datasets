{
 "cells": [
  {
   "cell_type": "code",
   "execution_count": 19,
   "id": "1b06e97e-f8b1-4356-9ff9-c85096f4bde7",
   "metadata": {},
   "outputs": [],
   "source": [
    "import tensorflow as tf\n",
    "import keras\n",
    "import numpy as np\n",
    "from keras.models import Sequential\n",
    "import matplotlib.pyplot as plt\n",
    "from keras.layers import Dense, Flatten, Conv2D, MaxPool2D, Dropout, BatchNormalization\n",
    "from keras.callbacks import EarlyStopping, ModelCheckpoint"
   ]
  },
  {
   "cell_type": "code",
   "execution_count": 6,
   "id": "c585c5f5-b524-4d9f-b3a0-f0ab9bc7e159",
   "metadata": {},
   "outputs": [],
   "source": [
    "(x_train, y_train),(x_test,y_test) = keras.datasets.fashion_mnist.load_data()"
   ]
  },
  {
   "cell_type": "code",
   "execution_count": 7,
   "id": "bfa86b78-b55a-4a54-8c37-de8e00cfa218",
   "metadata": {},
   "outputs": [
    {
     "name": "stdout",
     "output_type": "stream",
     "text": [
      "x train shape (60000, 28, 28)\n",
      "x test shape (10000, 28, 28)\n"
     ]
    }
   ],
   "source": [
    "print(f\"x train shape {x_train.shape}\\nx test shape {x_test.shape}\")"
   ]
  },
  {
   "cell_type": "code",
   "execution_count": 21,
   "id": "adedb83f-5ee1-409e-8221-a64273bc5a86",
   "metadata": {},
   "outputs": [],
   "source": [
    "x_train_n = x_train/255\n",
    "x_test_n = x_test/255"
   ]
  },
  {
   "cell_type": "code",
   "execution_count": 23,
   "id": "661d7184-ca6a-4c0a-9993-fff4a5ce9535",
   "metadata": {},
   "outputs": [],
   "source": [
    "model = Sequential()\n",
    "\n",
    "model.add(Conv2D(16,(5,5),activation='relu',input_shape=(28,28,1))) # 24x24x16\n",
    "model.add(BatchNormalization())\n",
    "model.add(MaxPool2D(2,2)) # 12x12x16\n",
    "model.add(Dropout(0.2))\n",
    "\n",
    "model.add(Conv2D(32,(5,5),activation='relu')) # 8x8x32\n",
    "model.add(BatchNormalization())\n",
    "model.add(MaxPool2D(2,2)) # 4x4x32\n",
    "model.add(Dropout(0.2))\n",
    "\n",
    "\n",
    "model.add(Flatten())\n",
    "model.add(Dense(512, activation='relu'))\n",
    "model.add(Dropout(0.25))\n",
    "model.add(Dense(128, activation='relu'))\n",
    "model.add(Dense(10, activation='softmax'))"
   ]
  },
  {
   "cell_type": "code",
   "execution_count": 36,
   "id": "d2efcbba-5104-4bcc-85cd-4763e2262ef7",
   "metadata": {},
   "outputs": [
    {
     "name": "stdout",
     "output_type": "stream",
     "text": [
      "Model: \"sequential\"\n",
      "_________________________________________________________________\n",
      " Layer (type)                Output Shape              Param #   \n",
      "=================================================================\n",
      " conv2d (Conv2D)             (None, 24, 24, 16)        416       \n",
      "                                                                 \n",
      " batch_normalization (BatchN  (None, 24, 24, 16)       64        \n",
      " ormalization)                                                   \n",
      "                                                                 \n",
      " max_pooling2d (MaxPooling2D  (None, 12, 12, 16)       0         \n",
      " )                                                               \n",
      "                                                                 \n",
      " dropout (Dropout)           (None, 12, 12, 16)        0         \n",
      "                                                                 \n",
      " conv2d_1 (Conv2D)           (None, 8, 8, 32)          12832     \n",
      "                                                                 \n",
      " batch_normalization_1 (Batc  (None, 8, 8, 32)         128       \n",
      " hNormalization)                                                 \n",
      "                                                                 \n",
      " max_pooling2d_1 (MaxPooling  (None, 4, 4, 32)         0         \n",
      " 2D)                                                             \n",
      "                                                                 \n",
      " dropout_1 (Dropout)         (None, 4, 4, 32)          0         \n",
      "                                                                 \n",
      " flatten (Flatten)           (None, 512)               0         \n",
      "                                                                 \n",
      " dense (Dense)               (None, 512)               262656    \n",
      "                                                                 \n",
      " dropout_2 (Dropout)         (None, 512)               0         \n",
      "                                                                 \n",
      " dense_1 (Dense)             (None, 128)               65664     \n",
      "                                                                 \n",
      " dense_2 (Dense)             (None, 10)                1290      \n",
      "                                                                 \n",
      "=================================================================\n",
      "Total params: 343,050\n",
      "Trainable params: 342,954\n",
      "Non-trainable params: 96\n",
      "_________________________________________________________________\n"
     ]
    }
   ],
   "source": [
    "model.summary()"
   ]
  },
  {
   "cell_type": "code",
   "execution_count": 25,
   "id": "fc1155d0-6c14-4342-a205-271cd13d66ad",
   "metadata": {},
   "outputs": [],
   "source": [
    "stopping = EarlyStopping(monitor='val_loss',\n",
    "                        min_delta=0,\n",
    "                        patience=3)\n",
    "\n",
    "modelcheck = ModelCheckpoint('checkpoints/_{epoch}.ckpt',\n",
    "                            monitor='val_loss',\n",
    "                            save_best_only=True)"
   ]
  },
  {
   "cell_type": "code",
   "execution_count": 33,
   "id": "afe3b1a1-423e-4283-b661-f22518987ea6",
   "metadata": {},
   "outputs": [],
   "source": [
    "model.compile(optimizer='adam',loss='sparse_categorical_crossentropy',metrics=['accuracy'])"
   ]
  },
  {
   "cell_type": "code",
   "execution_count": 34,
   "id": "e2978f13-853b-4a6b-9ef8-3639dfdab1e1",
   "metadata": {},
   "outputs": [
    {
     "name": "stdout",
     "output_type": "stream",
     "text": [
      "Epoch 1/20\n",
      "1875/1875 [==============================] - ETA: 0s - loss: 0.4683 - accuracy: 0.8280WARNING:tensorflow:Early stopping conditioned on metric `val_loss` which is not available. Available metrics are: loss,accuracy\n",
      "WARNING:tensorflow:Can save best model only with val_loss available, skipping.\n",
      "1875/1875 [==============================] - 16s 5ms/step - loss: 0.4683 - accuracy: 0.8280\n",
      "Epoch 2/20\n",
      "1872/1875 [============================>.] - ETA: 0s - loss: 0.3388 - accuracy: 0.8739WARNING:tensorflow:Early stopping conditioned on metric `val_loss` which is not available. Available metrics are: loss,accuracy\n",
      "WARNING:tensorflow:Can save best model only with val_loss available, skipping.\n",
      "1875/1875 [==============================] - 10s 5ms/step - loss: 0.3387 - accuracy: 0.8739\n",
      "Epoch 3/20\n",
      "1875/1875 [==============================] - ETA: 0s - loss: 0.3041 - accuracy: 0.8881WARNING:tensorflow:Early stopping conditioned on metric `val_loss` which is not available. Available metrics are: loss,accuracy\n",
      "WARNING:tensorflow:Can save best model only with val_loss available, skipping.\n",
      "1875/1875 [==============================] - 10s 5ms/step - loss: 0.3041 - accuracy: 0.8881\n",
      "Epoch 4/20\n",
      "1870/1875 [============================>.] - ETA: 0s - loss: 0.2829 - accuracy: 0.8942WARNING:tensorflow:Early stopping conditioned on metric `val_loss` which is not available. Available metrics are: loss,accuracy\n",
      "WARNING:tensorflow:Can save best model only with val_loss available, skipping.\n",
      "1875/1875 [==============================] - 10s 5ms/step - loss: 0.2828 - accuracy: 0.8942\n",
      "Epoch 5/20\n",
      "1869/1875 [============================>.] - ETA: 0s - loss: 0.2686 - accuracy: 0.8994WARNING:tensorflow:Early stopping conditioned on metric `val_loss` which is not available. Available metrics are: loss,accuracy\n",
      "WARNING:tensorflow:Can save best model only with val_loss available, skipping.\n",
      "1875/1875 [==============================] - 10s 5ms/step - loss: 0.2683 - accuracy: 0.8995\n",
      "Epoch 6/20\n",
      "1871/1875 [============================>.] - ETA: 0s - loss: 0.2553 - accuracy: 0.9052WARNING:tensorflow:Early stopping conditioned on metric `val_loss` which is not available. Available metrics are: loss,accuracy\n",
      "WARNING:tensorflow:Can save best model only with val_loss available, skipping.\n",
      "1875/1875 [==============================] - 10s 5ms/step - loss: 0.2552 - accuracy: 0.9053\n",
      "Epoch 7/20\n",
      "1868/1875 [============================>.] - ETA: 0s - loss: 0.2421 - accuracy: 0.9087WARNING:tensorflow:Early stopping conditioned on metric `val_loss` which is not available. Available metrics are: loss,accuracy\n",
      "WARNING:tensorflow:Can save best model only with val_loss available, skipping.\n",
      "1875/1875 [==============================] - 10s 5ms/step - loss: 0.2423 - accuracy: 0.9087\n",
      "Epoch 8/20\n",
      "1874/1875 [============================>.] - ETA: 0s - loss: 0.2372 - accuracy: 0.9120WARNING:tensorflow:Early stopping conditioned on metric `val_loss` which is not available. Available metrics are: loss,accuracy\n",
      "WARNING:tensorflow:Can save best model only with val_loss available, skipping.\n",
      "1875/1875 [==============================] - 10s 5ms/step - loss: 0.2373 - accuracy: 0.9119\n",
      "Epoch 9/20\n",
      "1867/1875 [============================>.] - ETA: 0s - loss: 0.2266 - accuracy: 0.9145WARNING:tensorflow:Early stopping conditioned on metric `val_loss` which is not available. Available metrics are: loss,accuracy\n",
      "WARNING:tensorflow:Can save best model only with val_loss available, skipping.\n",
      "1875/1875 [==============================] - 10s 5ms/step - loss: 0.2266 - accuracy: 0.9146\n",
      "Epoch 10/20\n",
      "1875/1875 [==============================] - ETA: 0s - loss: 0.2221 - accuracy: 0.9158WARNING:tensorflow:Early stopping conditioned on metric `val_loss` which is not available. Available metrics are: loss,accuracy\n",
      "WARNING:tensorflow:Can save best model only with val_loss available, skipping.\n",
      "1875/1875 [==============================] - 10s 5ms/step - loss: 0.2221 - accuracy: 0.9158\n",
      "Epoch 11/20\n",
      "1871/1875 [============================>.] - ETA: 0s - loss: 0.2126 - accuracy: 0.9196WARNING:tensorflow:Early stopping conditioned on metric `val_loss` which is not available. Available metrics are: loss,accuracy\n",
      "WARNING:tensorflow:Can save best model only with val_loss available, skipping.\n",
      "1875/1875 [==============================] - 10s 5ms/step - loss: 0.2125 - accuracy: 0.9197\n",
      "Epoch 12/20\n",
      "1875/1875 [==============================] - ETA: 0s - loss: 0.2070 - accuracy: 0.9207WARNING:tensorflow:Early stopping conditioned on metric `val_loss` which is not available. Available metrics are: loss,accuracy\n",
      "WARNING:tensorflow:Can save best model only with val_loss available, skipping.\n",
      "1875/1875 [==============================] - 11s 6ms/step - loss: 0.2070 - accuracy: 0.9207\n",
      "Epoch 13/20\n",
      "1867/1875 [============================>.] - ETA: 0s - loss: 0.2026 - accuracy: 0.9247WARNING:tensorflow:Early stopping conditioned on metric `val_loss` which is not available. Available metrics are: loss,accuracy\n",
      "WARNING:tensorflow:Can save best model only with val_loss available, skipping.\n",
      "1875/1875 [==============================] - 10s 6ms/step - loss: 0.2026 - accuracy: 0.9247\n",
      "Epoch 14/20\n",
      "1869/1875 [============================>.] - ETA: 0s - loss: 0.1953 - accuracy: 0.9261WARNING:tensorflow:Early stopping conditioned on metric `val_loss` which is not available. Available metrics are: loss,accuracy\n",
      "WARNING:tensorflow:Can save best model only with val_loss available, skipping.\n",
      "1875/1875 [==============================] - 10s 5ms/step - loss: 0.1952 - accuracy: 0.9261\n",
      "Epoch 15/20\n",
      "1872/1875 [============================>.] - ETA: 0s - loss: 0.1949 - accuracy: 0.9261WARNING:tensorflow:Early stopping conditioned on metric `val_loss` which is not available. Available metrics are: loss,accuracy\n",
      "WARNING:tensorflow:Can save best model only with val_loss available, skipping.\n",
      "1875/1875 [==============================] - 10s 5ms/step - loss: 0.1948 - accuracy: 0.9262\n",
      "Epoch 16/20\n",
      "1872/1875 [============================>.] - ETA: 0s - loss: 0.1886 - accuracy: 0.9290WARNING:tensorflow:Early stopping conditioned on metric `val_loss` which is not available. Available metrics are: loss,accuracy\n",
      "WARNING:tensorflow:Can save best model only with val_loss available, skipping.\n",
      "1875/1875 [==============================] - 11s 6ms/step - loss: 0.1886 - accuracy: 0.9289\n",
      "Epoch 17/20\n",
      "1872/1875 [============================>.] - ETA: 0s - loss: 0.1831 - accuracy: 0.9312WARNING:tensorflow:Early stopping conditioned on metric `val_loss` which is not available. Available metrics are: loss,accuracy\n",
      "WARNING:tensorflow:Can save best model only with val_loss available, skipping.\n",
      "1875/1875 [==============================] - 10s 6ms/step - loss: 0.1833 - accuracy: 0.9312\n",
      "Epoch 18/20\n",
      "1867/1875 [============================>.] - ETA: 0s - loss: 0.1820 - accuracy: 0.9311WARNING:tensorflow:Early stopping conditioned on metric `val_loss` which is not available. Available metrics are: loss,accuracy\n",
      "WARNING:tensorflow:Can save best model only with val_loss available, skipping.\n",
      "1875/1875 [==============================] - 10s 6ms/step - loss: 0.1822 - accuracy: 0.9311\n",
      "Epoch 19/20\n",
      "1874/1875 [============================>.] - ETA: 0s - loss: 0.1772 - accuracy: 0.9333WARNING:tensorflow:Early stopping conditioned on metric `val_loss` which is not available. Available metrics are: loss,accuracy\n",
      "WARNING:tensorflow:Can save best model only with val_loss available, skipping.\n",
      "1875/1875 [==============================] - 10s 6ms/step - loss: 0.1773 - accuracy: 0.9333\n",
      "Epoch 20/20\n",
      "1874/1875 [============================>.] - ETA: 0s - loss: 0.1757 - accuracy: 0.9345WARNING:tensorflow:Early stopping conditioned on metric `val_loss` which is not available. Available metrics are: loss,accuracy\n",
      "WARNING:tensorflow:Can save best model only with val_loss available, skipping.\n",
      "1875/1875 [==============================] - 10s 5ms/step - loss: 0.1756 - accuracy: 0.9345\n"
     ]
    },
    {
     "data": {
      "text/plain": [
       "<keras.callbacks.History at 0x2a7c9f66a60>"
      ]
     },
     "execution_count": 34,
     "metadata": {},
     "output_type": "execute_result"
    }
   ],
   "source": [
    "model.fit(x_train,y_train,callbacks=(stopping,modelcheck),epochs=20)"
   ]
  },
  {
   "cell_type": "code",
   "execution_count": 37,
   "id": "589a5fa4-39ba-4319-9020-3d6218427d61",
   "metadata": {},
   "outputs": [
    {
     "name": "stdout",
     "output_type": "stream",
     "text": [
      "313/313 [==============================] - 1s 3ms/step - loss: 0.2504 - accuracy: 0.9146\n"
     ]
    },
    {
     "data": {
      "text/plain": [
       "[0.25041815638542175, 0.9146000146865845]"
      ]
     },
     "execution_count": 37,
     "metadata": {},
     "output_type": "execute_result"
    }
   ],
   "source": [
    "model.evaluate(x_test,y_test)"
   ]
  },
  {
   "cell_type": "code",
   "execution_count": 75,
   "id": "320e7d7e-fb19-4511-9821-163443dc27d8",
   "metadata": {},
   "outputs": [
    {
     "data": {
      "text/plain": [
       "(28, 28)"
      ]
     },
     "execution_count": 75,
     "metadata": {},
     "output_type": "execute_result"
    }
   ],
   "source": [
    "x_test[0].shape"
   ]
  },
  {
   "cell_type": "code",
   "execution_count": 73,
   "id": "976ccba6-e64b-4846-a4bc-c51e371c52d7",
   "metadata": {},
   "outputs": [
    {
     "name": "stdout",
     "output_type": "stream",
     "text": [
      "1/1 [==============================] - 0s 26ms/step\n"
     ]
    },
    {
     "data": {
      "text/plain": [
       "array([[9.7387601e-07, 8.2337378e-05, 3.7338211e-08, 3.7110940e-08,\n",
       "        1.4645654e-07, 1.2964995e-01, 6.8040839e-07, 9.8207814e-01,\n",
       "        2.9654300e-05, 9.9999988e-01]], dtype=float32)"
      ]
     },
     "execution_count": 73,
     "metadata": {},
     "output_type": "execute_result"
    }
   ],
   "source": [
    "model.predict(np.expand_dims(x_test[0],0))"
   ]
  },
  {
   "cell_type": "markdown",
   "id": "fd5d8df7-b218-4ef4-ba8c-a2dbae56b7b2",
   "metadata": {},
   "source": [
    "Save model"
   ]
  },
  {
   "cell_type": "code",
   "execution_count": 62,
   "id": "836b7c8c-1038-4205-994d-1693aaa2ea51",
   "metadata": {},
   "outputs": [],
   "source": [
    "model.save(\"model.h5\")"
   ]
  },
  {
   "cell_type": "code",
   "execution_count": 64,
   "id": "bca62bcb-ff72-4958-b02c-51c1cd330d6f",
   "metadata": {},
   "outputs": [],
   "source": [
    "model.save('model',save_format='tf')"
   ]
  },
  {
   "cell_type": "code",
   "execution_count": 107,
   "id": "f4d325c2-2c76-475c-96f4-3c4114023334",
   "metadata": {},
   "outputs": [
    {
     "data": {
      "text/plain": [
       "<matplotlib.image.AxesImage at 0x2a9d1cb22b0>"
      ]
     },
     "execution_count": 107,
     "metadata": {},
     "output_type": "execute_result"
    },
    {
     "data": {
      "image/png": "[encoded data removed]",
      "text/plain": [
       "<Figure size 640x480 with 1 Axes>"
      ]
     },
     "metadata": {},
     "output_type": "display_data"
    }
   ],
   "source": [
    "plt.imshow(x_test[9])"
   ]
  },
  {
   "cell_type": "code",
   "execution_count": 66,
   "id": "4bdc6dd1-1a39-4665-8a71-ca2f447fdaad",
   "metadata": {},
   "outputs": [],
   "source": [
    "import cv2"
   ]
  },
  {
   "cell_type": "code",
   "execution_count": 86,
   "id": "529fa70d-305f-4f5e-b32e-7b68b9e7d283",
   "metadata": {},
   "outputs": [
    {
     "name": "stdout",
     "output_type": "stream",
     "text": [
      "1/1 [==============================] - 0s 36ms/step\n"
     ]
    },
    {
     "data": {
      "text/plain": [
       "2"
      ]
     },
     "execution_count": 86,
     "metadata": {},
     "output_type": "execute_result"
    }
   ],
   "source": [
    "np.argmax(model.predict(np.expand_dims(png,0)))"
   ]
  },
  {
   "cell_type": "code",
   "execution_count": 90,
   "id": "da09da41-d973-45ef-b41e-cbf446f2f396",
   "metadata": {},
   "outputs": [
    {
     "data": {
      "text/plain": [
       "<matplotlib.image.AxesImage at 0x2a81b80c400>"
      ]
     },
     "execution_count": 90,
     "metadata": {},
     "output_type": "execute_result"
    },
    {
     "data": {
      "image/png": "[encoded data removed]",
      "text/plain": [
       "<Figure size 200x200 with 1 Axes>"
      ]
     },
     "metadata": {},
     "output_type": "display_data"
    }
   ],
   "source": [
    "plt.figure(figsize=(2,2))\n",
    "plt.imshow(x_test[2])"
   ]
  },
  {
   "cell_type": "code",
   "execution_count": null,
   "id": "ab7d3887-e1ec-4303-a8f5-980ff1667e42",
   "metadata": {},
   "outputs": [],
   "source": [
    "png = cv2.imread('red-plain-t-shirt.png',cv2.IMREAD_GRAYSCALE)\n",
    "png = cv2.resize(png,(28,28),interpolation=cv2.INTER_AREA)\n",
    "plt.imshow(png)"
   ]
  },
  {
   "cell_type": "code",
   "execution_count": 3,
   "id": "1bbfd322-e9f6-4265-bac0-ef00fab7e48b",
   "metadata": {},
   "outputs": [
    {
     "ename": "AttributeError",
     "evalue": "'str' object has no attribute 'value'",
     "output_type": "error",
     "traceback": [
      "\u001b[1;31m---------------------------------------------------------------------------\u001b[0m",
      "\u001b[1;31mAttributeError\u001b[0m                            Traceback (most recent call last)",
      "Cell \u001b[1;32mIn[3], line 13\u001b[0m\n\u001b[0;32m      1\u001b[0m label \u001b[38;5;241m=\u001b[39m {\n\u001b[0;32m      2\u001b[0m                 \u001b[38;5;241m0\u001b[39m:\u001b[38;5;124m'\u001b[39m\u001b[38;5;124mT-shirt/top\u001b[39m\u001b[38;5;124m'\u001b[39m,\n\u001b[0;32m      3\u001b[0m                 \u001b[38;5;241m1\u001b[39m:\u001b[38;5;124m'\u001b[39m\u001b[38;5;124mTrouser\u001b[39m\u001b[38;5;124m'\u001b[39m,\n\u001b[1;32m   (...)\u001b[0m\n\u001b[0;32m     11\u001b[0m                 \u001b[38;5;241m9\u001b[39m:\u001b[38;5;124m'\u001b[39m\u001b[38;5;124mAnkle boot\u001b[39m\u001b[38;5;124m'\u001b[39m\n\u001b[0;32m     12\u001b[0m     }\n\u001b[1;32m---> 13\u001b[0m \u001b[43mlabel\u001b[49m\u001b[43m[\u001b[49m\u001b[38;5;241;43m2\u001b[39;49m\u001b[43m]\u001b[49m\u001b[38;5;241;43m.\u001b[39;49m\u001b[43mvalue\u001b[49m()\n",
      "\u001b[1;31mAttributeError\u001b[0m: 'str' object has no attribute 'value'"
     ]
    }
   ],
   "source": [
    "label = {\n",
    "                0:'T-shirt/top',\n",
    "                1:'Trouser',\n",
    "                2:'Pullover',\n",
    "                3:'Dress',\n",
    "                4:'Coat',\n",
    "                5:'Sandal',\n",
    "                6:'Shirt',\n",
    "                7:'Sneaker',\n",
    "                8:'Bag',\n",
    "                9:'Ankle boot'\n",
    "    }\n",
    "label[2]"
   ]
  }
 ],
 "metadata": {
  "kernelspec": {
   "display_name": "tf_gpu",
   "language": "python",
   "name": "tf_gpu"
  },
  "language_info": {
   "codemirror_mode": {
    "name": "ipython",
    "version": 3
   },
   "file_extension": ".py",
   "mimetype": "text/x-python",
   "name": "python",
   "nbconvert_exporter": "python",
   "pygments_lexer": "ipython3",
   "version": "3.9.2"
  }
 },
 "nbformat": 4,
 "nbformat_minor": 5
}
