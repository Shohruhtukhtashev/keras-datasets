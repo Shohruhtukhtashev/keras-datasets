{
 "cells": [
  {
   "cell_type": "code",
   "execution_count": 1,
   "id": "df531c5c-b85b-4694-82b4-771377f9a170",
   "metadata": {},
   "outputs": [],
   "source": [
    "import tensorflow as tf\n",
    "import keras\n",
    "import numpy as np \n",
    "import matplotlib.pyplot as plt\n",
    "from keras.layers import Dense\n",
    "from keras import Sequential\n",
    "\n",
    "from tensorflow.keras.losses import MeanSquaredLogarithmicError\n",
    "from tensorflow.keras.optimizers import Adam\n",
    "from tensorflow.keras.layers import Dense, Dropout"
   ]
  },
  {
   "cell_type": "code",
   "execution_count": 2,
   "id": "0308e699-17ae-473a-b15b-60380854a3f7",
   "metadata": {
    "scrolled": true
   },
   "outputs": [
    {
     "data": {
      "text/plain": [
       "((array([[1.23247e+00, 0.00000e+00, 8.14000e+00, ..., 2.10000e+01,\n",
       "          3.96900e+02, 1.87200e+01],\n",
       "         [2.17700e-02, 8.25000e+01, 2.03000e+00, ..., 1.47000e+01,\n",
       "          3.95380e+02, 3.11000e+00],\n",
       "         [4.89822e+00, 0.00000e+00, 1.81000e+01, ..., 2.02000e+01,\n",
       "          3.75520e+02, 3.26000e+00],\n",
       "         ...,\n",
       "         [3.46600e-02, 3.50000e+01, 6.06000e+00, ..., 1.69000e+01,\n",
       "          3.62250e+02, 7.83000e+00],\n",
       "         [2.14918e+00, 0.00000e+00, 1.95800e+01, ..., 1.47000e+01,\n",
       "          2.61950e+02, 1.57900e+01],\n",
       "         [1.43900e-02, 6.00000e+01, 2.93000e+00, ..., 1.56000e+01,\n",
       "          3.76700e+02, 4.38000e+00]]),\n",
       "  array([15.2, 42.3, 50. , 21.1, 17.7, 18.5, 11.3, 15.6, 15.6, 14.4, 12.1,\n",
       "         17.9, 23.1, 19.9, 15.7,  8.8, 50. , 22.5, 24.1, 27.5, 10.9, 30.8,\n",
       "         32.9, 24. , 18.5, 13.3, 22.9, 34.7, 16.6, 17.5, 22.3, 16.1, 14.9,\n",
       "         23.1, 34.9, 25. , 13.9, 13.1, 20.4, 20. , 15.2, 24.7, 22.2, 16.7,\n",
       "         12.7, 15.6, 18.4, 21. , 30.1, 15.1, 18.7,  9.6, 31.5, 24.8, 19.1,\n",
       "         22. , 14.5, 11. , 32. , 29.4, 20.3, 24.4, 14.6, 19.5, 14.1, 14.3,\n",
       "         15.6, 10.5,  6.3, 19.3, 19.3, 13.4, 36.4, 17.8, 13.5, 16.5,  8.3,\n",
       "         14.3, 16. , 13.4, 28.6, 43.5, 20.2, 22. , 23. , 20.7, 12.5, 48.5,\n",
       "         14.6, 13.4, 23.7, 50. , 21.7, 39.8, 38.7, 22.2, 34.9, 22.5, 31.1,\n",
       "         28.7, 46. , 41.7, 21. , 26.6, 15. , 24.4, 13.3, 21.2, 11.7, 21.7,\n",
       "         19.4, 50. , 22.8, 19.7, 24.7, 36.2, 14.2, 18.9, 18.3, 20.6, 24.6,\n",
       "         18.2,  8.7, 44. , 10.4, 13.2, 21.2, 37. , 30.7, 22.9, 20. , 19.3,\n",
       "         31.7, 32. , 23.1, 18.8, 10.9, 50. , 19.6,  5. , 14.4, 19.8, 13.8,\n",
       "         19.6, 23.9, 24.5, 25. , 19.9, 17.2, 24.6, 13.5, 26.6, 21.4, 11.9,\n",
       "         22.6, 19.6,  8.5, 23.7, 23.1, 22.4, 20.5, 23.6, 18.4, 35.2, 23.1,\n",
       "         27.9, 20.6, 23.7, 28. , 13.6, 27.1, 23.6, 20.6, 18.2, 21.7, 17.1,\n",
       "          8.4, 25.3, 13.8, 22.2, 18.4, 20.7, 31.6, 30.5, 20.3,  8.8, 19.2,\n",
       "         19.4, 23.1, 23. , 14.8, 48.8, 22.6, 33.4, 21.1, 13.6, 32.2, 13.1,\n",
       "         23.4, 18.9, 23.9, 11.8, 23.3, 22.8, 19.6, 16.7, 13.4, 22.2, 20.4,\n",
       "         21.8, 26.4, 14.9, 24.1, 23.8, 12.3, 29.1, 21. , 19.5, 23.3, 23.8,\n",
       "         17.8, 11.5, 21.7, 19.9, 25. , 33.4, 28.5, 21.4, 24.3, 27.5, 33.1,\n",
       "         16.2, 23.3, 48.3, 22.9, 22.8, 13.1, 12.7, 22.6, 15. , 15.3, 10.5,\n",
       "         24. , 18.5, 21.7, 19.5, 33.2, 23.2,  5. , 19.1, 12.7, 22.3, 10.2,\n",
       "         13.9, 16.3, 17. , 20.1, 29.9, 17.2, 37.3, 45.4, 17.8, 23.2, 29. ,\n",
       "         22. , 18. , 17.4, 34.6, 20.1, 25. , 15.6, 24.8, 28.2, 21.2, 21.4,\n",
       "         23.8, 31. , 26.2, 17.4, 37.9, 17.5, 20. ,  8.3, 23.9,  8.4, 13.8,\n",
       "          7.2, 11.7, 17.1, 21.6, 50. , 16.1, 20.4, 20.6, 21.4, 20.6, 36.5,\n",
       "          8.5, 24.8, 10.8, 21.9, 17.3, 18.9, 36.2, 14.9, 18.2, 33.3, 21.8,\n",
       "         19.7, 31.6, 24.8, 19.4, 22.8,  7.5, 44.8, 16.8, 18.7, 50. , 50. ,\n",
       "         19.5, 20.1, 50. , 17.2, 20.8, 19.3, 41.3, 20.4, 20.5, 13.8, 16.5,\n",
       "         23.9, 20.6, 31.5, 23.3, 16.8, 14. , 33.8, 36.1, 12.8, 18.3, 18.7,\n",
       "         19.1, 29. , 30.1, 50. , 50. , 22. , 11.9, 37.6, 50. , 22.7, 20.8,\n",
       "         23.5, 27.9, 50. , 19.3, 23.9, 22.6, 15.2, 21.7, 19.2, 43.8, 20.3,\n",
       "         33.2, 19.9, 22.5, 32.7, 22. , 17.1, 19. , 15. , 16.1, 25.1, 23.7,\n",
       "         28.7, 37.2, 22.6, 16.4, 25. , 29.8, 22.1, 17.4, 18.1, 30.3, 17.5,\n",
       "         24.7, 12.6, 26.5, 28.7, 13.3, 10.4, 24.4, 23. , 20. , 17.8,  7. ,\n",
       "         11.8, 24.4, 13.8, 19.4, 25.2, 19.4, 19.4, 29.1])),\n",
       " (array([[1.80846e+01, 0.00000e+00, 1.81000e+01, ..., 2.02000e+01,\n",
       "          2.72500e+01, 2.90500e+01],\n",
       "         [1.23290e-01, 0.00000e+00, 1.00100e+01, ..., 1.78000e+01,\n",
       "          3.94950e+02, 1.62100e+01],\n",
       "         [5.49700e-02, 0.00000e+00, 5.19000e+00, ..., 2.02000e+01,\n",
       "          3.96900e+02, 9.74000e+00],\n",
       "         ...,\n",
       "         [1.83377e+00, 0.00000e+00, 1.95800e+01, ..., 1.47000e+01,\n",
       "          3.89610e+02, 1.92000e+00],\n",
       "         [3.58090e-01, 0.00000e+00, 6.20000e+00, ..., 1.74000e+01,\n",
       "          3.91700e+02, 9.71000e+00],\n",
       "         [2.92400e+00, 0.00000e+00, 1.95800e+01, ..., 1.47000e+01,\n",
       "          2.40160e+02, 9.81000e+00]]),\n",
       "  array([ 7.2, 18.8, 19. , 27. , 22.2, 24.5, 31.2, 22.9, 20.5, 23.2, 18.6,\n",
       "         14.5, 17.8, 50. , 20.8, 24.3, 24.2, 19.8, 19.1, 22.7, 12. , 10.2,\n",
       "         20. , 18.5, 20.9, 23. , 27.5, 30.1,  9.5, 22. , 21.2, 14.1, 33.1,\n",
       "         23.4, 20.1,  7.4, 15.4, 23.8, 20.1, 24.5, 33. , 28.4, 14.1, 46.7,\n",
       "         32.5, 29.6, 28.4, 19.8, 20.2, 25. , 35.4, 20.3,  9.7, 14.5, 34.9,\n",
       "         26.6,  7.2, 50. , 32.4, 21.6, 29.8, 13.1, 27.5, 21.2, 23.1, 21.9,\n",
       "         13. , 23.2,  8.1,  5.6, 21.7, 29.6, 19.6,  7. , 26.4, 18.9, 20.9,\n",
       "         28.1, 35.4, 10.2, 24.3, 43.1, 17.6, 15.4, 16.2, 27.1, 21.4, 21.5,\n",
       "         22.4, 25. , 16.6, 18.6, 22. , 42.8, 35.1, 21.5, 36. , 21.9, 24.1,\n",
       "         50. , 26.7, 25. ])))"
      ]
     },
     "execution_count": 2,
     "metadata": {},
     "output_type": "execute_result"
    }
   ],
   "source": [
    "keras.datasets.boston_housing.load_data(path='boston_housing.npz', test_split=0.2, seed=113)"
   ]
  },
  {
   "cell_type": "code",
   "execution_count": 2,
   "id": "f65ee990-dff0-4210-b9c1-996ca5a6b8ff",
   "metadata": {},
   "outputs": [],
   "source": [
    "(x_train, y_train), (x_test, y_test) = keras.datasets.boston_housing.load_data()"
   ]
  },
  {
   "cell_type": "code",
   "execution_count": 4,
   "id": "2c2d5006-78a2-4969-bdca-a58012ff2db3",
   "metadata": {},
   "outputs": [
    {
     "data": {
      "text/plain": [
       "array([  1.23247,   0.     ,   8.14   ,   0.     ,   0.538  ,   6.142  ,\n",
       "        91.7    ,   3.9769 ,   4.     , 307.     ,  21.     , 396.9    ,\n",
       "        18.72   ])"
      ]
     },
     "execution_count": 4,
     "metadata": {},
     "output_type": "execute_result"
    }
   ],
   "source": [
    "x_train[0]"
   ]
  },
  {
   "cell_type": "code",
   "execution_count": 5,
   "id": "39fa9097-c988-4294-8da1-3f9d3fa0fed5",
   "metadata": {},
   "outputs": [
    {
     "data": {
      "text/plain": [
       "(102, 13)"
      ]
     },
     "execution_count": 5,
     "metadata": {},
     "output_type": "execute_result"
    }
   ],
   "source": [
    "x_test.shape"
   ]
  },
  {
   "cell_type": "code",
   "execution_count": 6,
   "id": "24e685aa-b5e9-471e-835a-aa6e667cb672",
   "metadata": {},
   "outputs": [],
   "source": [
    "hidden_units1 = 160\n",
    "hidden_units2 = 480\n",
    "hidden_units3 = 256\n",
    "l_rate = 0.001\n",
    "model = Sequential()\n",
    "model.add(Dense(hidden_units1, kernel_initializer='normal', activation='relu'))\n",
    "model.add(Dropout(0.2))\n",
    "model.add(Dense(hidden_units2, kernel_initializer='normal', activation='relu'))\n",
    "model.add(Dropout(0.2))\n",
    "model.add(Dense(hidden_units3, kernel_initializer='normal', activation='relu'))\n",
    "model.add(Dense(1, kernel_initializer='normal', activation='relu'))"
   ]
  },
  {
   "cell_type": "code",
   "execution_count": 7,
   "id": "d969a093-1d64-4e15-a187-2f19bf332c1a",
   "metadata": {},
   "outputs": [],
   "source": [
    "msle = MeanSquaredLogarithmicError()\n",
    "model.compile(optimizer=Adam(learning_rate=l_rate), loss=msle, metrics=[msle])"
   ]
  },
  {
   "cell_type": "code",
   "execution_count": 8,
   "id": "a415e0af-61f3-4ade-9e3f-b6897f9718b3",
   "metadata": {},
   "outputs": [
    {
     "name": "stdout",
     "output_type": "stream",
     "text": [
      "Epoch 1/10\n",
      "6/6 [==============================] - 5s 115ms/step - loss: 1.8047 - mean_squared_logarithmic_error: 1.5778 - val_loss: 0.9065 - val_mean_squared_logarithmic_error: 1.0218\n",
      "Epoch 2/10\n",
      "6/6 [==============================] - 0s 20ms/step - loss: 1.0802 - mean_squared_logarithmic_error: 0.9506 - val_loss: 0.5224 - val_mean_squared_logarithmic_error: 0.5840\n",
      "Epoch 3/10\n",
      "6/6 [==============================] - 0s 28ms/step - loss: 0.4212 - mean_squared_logarithmic_error: 0.3690 - val_loss: 0.5203 - val_mean_squared_logarithmic_error: 0.6574\n",
      "Epoch 4/10\n",
      "6/6 [==============================] - 0s 40ms/step - loss: 0.4864 - mean_squared_logarithmic_error: 0.4153 - val_loss: 0.1221 - val_mean_squared_logarithmic_error: 0.1148\n",
      "Epoch 5/10\n",
      "6/6 [==============================] - 0s 39ms/step - loss: 0.2317 - mean_squared_logarithmic_error: 0.2328 - val_loss: 0.1524 - val_mean_squared_logarithmic_error: 0.1632\n",
      "Epoch 6/10\n",
      "6/6 [==============================] - 0s 33ms/step - loss: 0.2339 - mean_squared_logarithmic_error: 0.2498 - val_loss: 0.1103 - val_mean_squared_logarithmic_error: 0.1016\n",
      "Epoch 7/10\n",
      "6/6 [==============================] - 0s 25ms/step - loss: 0.1538 - mean_squared_logarithmic_error: 0.1733 - val_loss: 0.1206 - val_mean_squared_logarithmic_error: 0.0957\n",
      "Epoch 8/10\n",
      "6/6 [==============================] - 0s 25ms/step - loss: 0.1295 - mean_squared_logarithmic_error: 0.1380 - val_loss: 0.1051 - val_mean_squared_logarithmic_error: 0.0821\n",
      "Epoch 9/10\n",
      "6/6 [==============================] - 0s 34ms/step - loss: 0.1291 - mean_squared_logarithmic_error: 0.1176 - val_loss: 0.0933 - val_mean_squared_logarithmic_error: 0.0747\n",
      "Epoch 10/10\n",
      "6/6 [==============================] - 0s 29ms/step - loss: 0.1215 - mean_squared_logarithmic_error: 0.1059 - val_loss: 0.1309 - val_mean_squared_logarithmic_error: 0.1059\n"
     ]
    }
   ],
   "source": [
    "history = model.fit(x_train,y_train,batch_size=64,epochs=10,validation_split=0.2)"
   ]
  },
  {
   "cell_type": "code",
   "execution_count": 11,
   "id": "e7fb0f8d-2c6a-4d5c-98fc-01b89e410e05",
   "metadata": {},
   "outputs": [
    {
     "name": "stdout",
     "output_type": "stream",
     "text": [
      "2/2 [==============================] - 0s 8ms/step - loss: 0.1575 - mean_squared_logarithmic_error: 0.1583\n"
     ]
    }
   ],
   "source": [
    "model.evaluate(x_test,y_test,batch_size=64)"
   ]
  },
  {
   "cell_type": "code",
   "execution_count": 13,
   "id": "3189e0c2-691c-4e2d-960f-e57a0b76a41c",
   "metadata": {},
   "outputs": [
    {
     "name": "stdout",
     "output_type": "stream",
     "text": [
      "4/4 [==============================] - 0s 3ms/step\n"
     ]
    }
   ],
   "source": [
    "mp = model.predict(x_test)"
   ]
  },
  {
   "cell_type": "code",
   "execution_count": 24,
   "id": "3b2b3cac-9fbc-4d3a-926c-2d8b7e138d0d",
   "metadata": {},
   "outputs": [
    {
     "data": {
      "text/plain": [
       "13.39045"
      ]
     },
     "execution_count": 24,
     "metadata": {},
     "output_type": "execute_result"
    }
   ],
   "source": [
    "mp[3][0]"
   ]
  },
  {
   "cell_type": "code",
   "execution_count": 25,
   "id": "9c7f2067-3460-43e6-b800-a263a11be481",
   "metadata": {
    "scrolled": true
   },
   "outputs": [
    {
     "name": "stdout",
     "output_type": "stream",
     "text": [
      "predect: 8.956310272216797 | real: 7.2\n",
      "predect: 16.422935485839844 | real: 18.8\n",
      "predect: 24.188982009887695 | real: 19.0\n",
      "predect: 13.390449523925781 | real: 27.0\n",
      "predect: 23.413753509521484 | real: 22.2\n",
      "predect: 18.846094131469727 | real: 24.5\n",
      "predect: 21.646800994873047 | real: 31.2\n",
      "predect: 23.169265747070312 | real: 22.9\n",
      "predect: 22.7099609375 | real: 20.5\n",
      "predect: 13.743538856506348 | real: 23.2\n",
      "predect: 5.514554023742676 | real: 18.6\n",
      "predect: 19.082836151123047 | real: 14.5\n",
      "predect: 16.130199432373047 | real: 17.8\n",
      "predect: 24.93111801147461 | real: 50.0\n",
      "predect: 11.009366035461426 | real: 20.8\n",
      "predect: 21.361156463623047 | real: 24.3\n",
      "predect: 20.935304641723633 | real: 24.2\n",
      "predect: 15.665285110473633 | real: 19.8\n",
      "predect: 13.640491485595703 | real: 19.1\n",
      "predect: 13.82181167602539 | real: 22.7\n",
      "predect: 12.107303619384766 | real: 12.0\n",
      "predect: 8.799644470214844 | real: 10.2\n",
      "predect: 20.797618865966797 | real: 20.0\n",
      "predect: 20.665006637573242 | real: 18.5\n",
      "predect: 25.409061431884766 | real: 20.9\n",
      "predect: 13.974733352661133 | real: 23.0\n",
      "predect: 20.72517967224121 | real: 27.5\n",
      "predect: 27.99527931213379 | real: 30.1\n",
      "predect: 9.050122261047363 | real: 9.5\n",
      "predect: 21.21578025817871 | real: 22.0\n",
      "predect: 16.704490661621094 | real: 21.2\n",
      "predect: 9.075730323791504 | real: 14.1\n",
      "predect: 25.16926383972168 | real: 33.1\n",
      "predect: 20.377046585083008 | real: 23.4\n",
      "predect: 13.898237228393555 | real: 20.1\n",
      "predect: 13.262833595275879 | real: 7.4\n",
      "predect: 13.906286239624023 | real: 15.4\n",
      "predect: 8.055684089660645 | real: 23.8\n",
      "predect: 14.059333801269531 | real: 20.1\n",
      "predect: 26.06071662902832 | real: 24.5\n",
      "predect: 24.80656623840332 | real: 33.0\n",
      "predect: 19.534574508666992 | real: 28.4\n",
      "predect: 13.637453079223633 | real: 14.1\n",
      "predect: 20.457868576049805 | real: 46.7\n",
      "predect: 24.68364143371582 | real: 32.5\n",
      "predect: 24.16197967529297 | real: 29.6\n",
      "predect: 25.334209442138672 | real: 28.4\n",
      "predect: 21.28982925415039 | real: 19.8\n",
      "predect: 13.754986763000488 | real: 20.2\n",
      "predect: 22.334230422973633 | real: 25.0\n",
      "predect: 28.265003204345703 | real: 35.4\n",
      "predect: 21.98199462890625 | real: 20.3\n",
      "predect: 13.436751365661621 | real: 9.7\n",
      "predect: 20.49759864807129 | real: 14.5\n",
      "predect: 20.900142669677734 | real: 34.9\n",
      "predect: 23.21820068359375 | real: 26.6\n",
      "predect: 13.527386665344238 | real: 7.2\n",
      "predect: 22.93021583557129 | real: 50.0\n",
      "predect: 25.40971565246582 | real: 32.4\n",
      "predect: 23.3471622467041 | real: 21.6\n",
      "predect: 13.167679786682129 | real: 29.8\n",
      "predect: 13.500550270080566 | real: 13.1\n",
      "predect: 9.46498966217041 | real: 27.5\n",
      "predect: 18.389249801635742 | real: 21.2\n",
      "predect: 22.24097442626953 | real: 23.1\n",
      "predect: 25.15333366394043 | real: 21.9\n",
      "predect: 11.269448280334473 | real: 13.0\n",
      "predect: 24.670703887939453 | real: 23.2\n",
      "predect: 11.82303237915039 | real: 8.1\n",
      "predect: 13.28791332244873 | real: 5.6\n",
      "predect: 13.631875038146973 | real: 21.7\n",
      "predect: 21.280927658081055 | real: 29.6\n",
      "predect: 13.780879974365234 | real: 19.6\n",
      "predect: 12.43608570098877 | real: 7.0\n",
      "predect: 21.638471603393555 | real: 26.4\n",
      "predect: 21.59670066833496 | real: 18.9\n",
      "predect: 21.16189956665039 | real: 20.9\n",
      "predect: 21.777162551879883 | real: 28.1\n",
      "predect: 25.233137130737305 | real: 35.4\n",
      "predect: 12.637735366821289 | real: 10.2\n",
      "predect: 19.83003044128418 | real: 24.3\n",
      "predect: 22.798614501953125 | real: 43.1\n",
      "predect: 19.160202026367188 | real: 17.6\n",
      "predect: 13.27601146697998 | real: 15.4\n",
      "predect: 21.247257232666016 | real: 16.2\n",
      "predect: 21.286672592163086 | real: 27.1\n",
      "predect: 13.207756996154785 | real: 21.4\n",
      "predect: 21.809452056884766 | real: 21.5\n",
      "predect: 22.049055099487305 | real: 22.4\n",
      "predect: 13.93138313293457 | real: 25.0\n",
      "predect: 22.94626235961914 | real: 16.6\n",
      "predect: 20.853811264038086 | real: 18.6\n",
      "predect: 22.758785247802734 | real: 22.0\n",
      "predect: 22.171770095825195 | real: 42.8\n",
      "predect: 25.672508239746094 | real: 35.1\n",
      "predect: 15.47362232208252 | real: 21.5\n",
      "predect: 22.195959091186523 | real: 36.0\n",
      "predect: 12.61850643157959 | real: 21.9\n",
      "predect: 18.829809188842773 | real: 24.1\n",
      "predect: 17.03221893310547 | real: 50.0\n",
      "predect: 20.70953369140625 | real: 26.7\n",
      "predect: 8.626548767089844 | real: 25.0\n"
     ]
    }
   ],
   "source": [
    "y_2d = np.expand_dims(y_test,0)\n",
    "for i in range(y_2d.shape[1]):\n",
    "    print(f\"predect: {mp[i,0]} | real: {y_2d[0,i]}\")"
   ]
  },
  {
   "cell_type": "code",
   "execution_count": null,
   "id": "52eb18cf-22b1-4c3a-b718-7713639f9e08",
   "metadata": {},
   "outputs": [],
   "source": [
    "import numpy as np"
   ]
  },
  {
   "cell_type": "code",
   "execution_count": 26,
   "id": "5d81eaeb-35ee-4513-bdf7-fee210d9c5ee",
   "metadata": {},
   "outputs": [
    {
     "data": {
      "image/png": "[encoded data removed]",
      "text/plain": [
       "<Figure size 640x480 with 1 Axes>"
      ]
     },
     "metadata": {},
     "output_type": "display_data"
    }
   ],
   "source": [
    "def plot_history(history, key):\n",
    "  plt.plot(history.history[key])\n",
    "  plt.plot(history.history['val_'+key])\n",
    "  plt.xlabel(\"Epochs\")\n",
    "  plt.ylabel(key)\n",
    "  plt.legend([key, 'val_'+key])\n",
    "  plt.show()\n",
    "# Plot the history\n",
    "plot_history(history, 'mean_squared_logarithmic_error')"
   ]
  },
  {
   "cell_type": "code",
   "execution_count": 27,
   "id": "1473e978-f3cb-4acd-b42f-b8cab1bf3145",
   "metadata": {},
   "outputs": [],
   "source": [
    "model.save(\"boston_hous_model.h5\")"
   ]
  },
  {
   "cell_type": "code",
   "execution_count": 31,
   "id": "d3d206b2-784b-4413-b222-cb99498ffefa",
   "metadata": {},
   "outputs": [
    {
     "data": {
      "text/plain": [
       "array([ 18.0846,   0.    ,  18.1   ,   0.    ,   0.679 ,   6.434 ,\n",
       "       100.    ,   1.8347,  24.    , 666.    ,  20.2   ,  27.25  ,\n",
       "        29.05  ])"
      ]
     },
     "execution_count": 31,
     "metadata": {},
     "output_type": "execute_result"
    }
   ],
   "source": [
    "x_test[0]"
   ]
  },
  {
   "cell_type": "code",
   "execution_count": 12,
   "id": "d9ab3ce8-300f-4151-b02e-ac49d1d33862",
   "metadata": {},
   "outputs": [],
   "source": [
    "inputs_text = [\"per capita crime rate by town\",\"proportion of residential land zoned for lots over 25,000 sq.ft\",\n",
    "    \"proportion of non-retail business acres per town\",\"Charles River dummy variable (= 1 if tract bounds river; 0 otherwise)\",\n",
    "    \"nitric oxides concentration (parts per 10 million)\",\"average number of rooms per dwelling\",\"proportion of owner-occupied units built prior to 1940\",\n",
    "    \"weighted distances to five Boston employment centres\",\"index of accessibility to radial highways\",\"full-value property-tax rate per $10,000\",\n",
    "    \"pupil-teacher ratio by town\",\"1000(Bk - 0.63)^2 where Bk is the proportion of blacks by town\",\n",
    "    \"% lower status of the population\"]"
   ]
  },
  {
   "cell_type": "code",
   "execution_count": 29,
   "id": "1a1e553a-3d30-41db-a60a-cc5069e5beab",
   "metadata": {},
   "outputs": [
    {
     "name": "stdin",
     "output_type": "stream",
     "text": [
      "per capita crime rate by town 18.0846\n",
      "proportion of residential land zoned for lots over 25,000 sq.ft 0\n",
      "proportion of non-retail business acres per town 18.1\n",
      "Charles River dummy variable (= 1 if tract bounds river; 0 otherwise) 0\n",
      "nitric oxides concentration (parts per 10 million) 0.679\n",
      "average number of rooms per dwelling 6.434\n",
      "proportion of owner-occupied units built prior to 1940 100\n",
      "weighted distances to five Boston employment centres 1.8347\n",
      "index of accessibility to radial highways 24\n",
      "full-value property-tax rate per $10,000 666\n",
      "pupil-teacher ratio by town 20.2\n",
      "1000(Bk - 0.63)^2 where Bk is the proportion of blacks by town 27.25\n",
      "% lower status of the population 29.05\n"
     ]
    },
    {
     "name": "stdout",
     "output_type": "stream",
     "text": [
      "The current number is  [18.0846, 0.0, 18.1, 0.0, 0.679, 6.434, 100.0, 1.8347, 24.0, 666.0, 20.2, 27.25, 29.05]\n"
     ]
    },
    {
     "name": "stdin",
     "output_type": "stream",
     "text": [
      "Yana o'zgartirish kiritmasangiz? 1 ni kiriting 1\n"
     ]
    },
    {
     "ename": "TypeError",
     "evalue": "predict() got an unexpected keyword argument 'compile'",
     "output_type": "error",
     "traceback": [
      "\u001b[1;31m---------------------------------------------------------------------------\u001b[0m",
      "\u001b[1;31mTypeError\u001b[0m                                 Traceback (most recent call last)",
      "Cell \u001b[1;32mIn[29], line 10\u001b[0m\n\u001b[0;32m      8\u001b[0m \u001b[38;5;28;01mif\u001b[39;00m quetion \u001b[38;5;241m==\u001b[39m \u001b[38;5;241m1.0\u001b[39m:\n\u001b[0;32m      9\u001b[0m     model \u001b[38;5;241m=\u001b[39m tf\u001b[38;5;241m.\u001b[39mkeras\u001b[38;5;241m.\u001b[39mmodels\u001b[38;5;241m.\u001b[39mload_model(\u001b[38;5;124m'\u001b[39m\u001b[38;5;124mboston_hous_model.h5\u001b[39m\u001b[38;5;124m'\u001b[39m,\u001b[38;5;28mcompile\u001b[39m\u001b[38;5;241m=\u001b[39m\u001b[38;5;28;01mFalse\u001b[39;00m)\n\u001b[1;32m---> 10\u001b[0m     pre \u001b[38;5;241m=\u001b[39m \u001b[43mmodel\u001b[49m\u001b[38;5;241;43m.\u001b[39;49m\u001b[43mpredict\u001b[49m\u001b[43m(\u001b[49m\u001b[43mnp\u001b[49m\u001b[38;5;241;43m.\u001b[39;49m\u001b[43marray\u001b[49m\u001b[43m(\u001b[49m\u001b[43minputs\u001b[49m\u001b[43m)\u001b[49m\u001b[43m,\u001b[49m\u001b[43m \u001b[49m\u001b[38;5;28;43mcompile\u001b[39;49m\u001b[38;5;241;43m=\u001b[39;49m\u001b[38;5;28;43;01mFalse\u001b[39;49;00m\u001b[43m)\u001b[49m\n\u001b[0;32m     11\u001b[0m     st\u001b[38;5;241m.\u001b[39mwrite(\u001b[38;5;124m\"\u001b[39m\u001b[38;5;124mModel predict: \u001b[39m\u001b[38;5;124m\"\u001b[39m,pre)\n",
      "File \u001b[1;32mC:\\ProgramData\\anaconda3\\envs\\tf_gpu\\lib\\site-packages\\keras\\utils\\traceback_utils.py:70\u001b[0m, in \u001b[0;36mfilter_traceback.<locals>.error_handler\u001b[1;34m(*args, **kwargs)\u001b[0m\n\u001b[0;32m     67\u001b[0m     filtered_tb \u001b[38;5;241m=\u001b[39m _process_traceback_frames(e\u001b[38;5;241m.\u001b[39m__traceback__)\n\u001b[0;32m     68\u001b[0m     \u001b[38;5;66;03m# To get the full stack trace, call:\u001b[39;00m\n\u001b[0;32m     69\u001b[0m     \u001b[38;5;66;03m# `tf.debugging.disable_traceback_filtering()`\u001b[39;00m\n\u001b[1;32m---> 70\u001b[0m     \u001b[38;5;28;01mraise\u001b[39;00m e\u001b[38;5;241m.\u001b[39mwith_traceback(filtered_tb) \u001b[38;5;28;01mfrom\u001b[39;00m \u001b[38;5;28;01mNone\u001b[39;00m\n\u001b[0;32m     71\u001b[0m \u001b[38;5;28;01mfinally\u001b[39;00m:\n\u001b[0;32m     72\u001b[0m     \u001b[38;5;28;01mdel\u001b[39;00m filtered_tb\n",
      "File \u001b[1;32mC:\\ProgramData\\anaconda3\\envs\\tf_gpu\\lib\\site-packages\\keras\\utils\\traceback_utils.py:65\u001b[0m, in \u001b[0;36mfilter_traceback.<locals>.error_handler\u001b[1;34m(*args, **kwargs)\u001b[0m\n\u001b[0;32m     63\u001b[0m filtered_tb \u001b[38;5;241m=\u001b[39m \u001b[38;5;28;01mNone\u001b[39;00m\n\u001b[0;32m     64\u001b[0m \u001b[38;5;28;01mtry\u001b[39;00m:\n\u001b[1;32m---> 65\u001b[0m     \u001b[38;5;28;01mreturn\u001b[39;00m fn(\u001b[38;5;241m*\u001b[39margs, \u001b[38;5;241m*\u001b[39m\u001b[38;5;241m*\u001b[39mkwargs)\n\u001b[0;32m     66\u001b[0m \u001b[38;5;28;01mexcept\u001b[39;00m \u001b[38;5;167;01mException\u001b[39;00m \u001b[38;5;28;01mas\u001b[39;00m e:\n\u001b[0;32m     67\u001b[0m     filtered_tb \u001b[38;5;241m=\u001b[39m _process_traceback_frames(e\u001b[38;5;241m.\u001b[39m__traceback__)\n",
      "\u001b[1;31mTypeError\u001b[0m: predict() got an unexpected keyword argument 'compile'"
     ]
    }
   ],
   "source": [
    "inputs = []\n",
    "for i in inputs_text:\n",
    "    number = float(input(i))\n",
    "    inputs.append(number)\n",
    "print('The current number is ', inputs)\n",
    "quetion = float(input(\"Yana o'zgartirish kiritmasangiz? 1 ni kiriting\"))\n",
    "\n",
    "if quetion == 1.0:\n",
    "    model = tf.keras.models.load_model('boston_hous_model.h5',compile=False)\n",
    "    pre = model.predict(np.array(inputs))\n",
    "    st.write(\"Model predict: \",pre)"
   ]
  },
  {
   "cell_type": "code",
   "execution_count": 27,
   "id": "918c14e9-dad2-45f4-bccc-b2fd2d307739",
   "metadata": {},
   "outputs": [
    {
     "ename": "NameError",
     "evalue": "name 'model' is not defined",
     "output_type": "error",
     "traceback": [
      "\u001b[1;31m---------------------------------------------------------------------------\u001b[0m",
      "\u001b[1;31mNameError\u001b[0m                                 Traceback (most recent call last)",
      "Cell \u001b[1;32mIn[27], line 1\u001b[0m\n\u001b[1;32m----> 1\u001b[0m \u001b[43mmodel\u001b[49m\n",
      "\u001b[1;31mNameError\u001b[0m: name 'model' is not defined"
     ]
    }
   ],
   "source": []
  },
  {
   "cell_type": "code",
   "execution_count": 20,
   "id": "818bcbca-6511-41d6-a7ae-37646e5dc840",
   "metadata": {},
   "outputs": [],
   "source": [
    "inputs = np.array(inputs)"
   ]
  },
  {
   "cell_type": "code",
   "execution_count": 21,
   "id": "b2f323cb-04d3-49e9-a037-4eca3693eac7",
   "metadata": {},
   "outputs": [
    {
     "data": {
      "text/plain": [
       "array([ 18.08  ,   0.    ,  18.1   ,   0.    ,   0.679 ,   6.434 ,\n",
       "       100.    ,   1.8347,  24.    , 666.    ,  20.2   ,  27.25  ,\n",
       "        29.05  ])"
      ]
     },
     "execution_count": 21,
     "metadata": {},
     "output_type": "execute_result"
    }
   ],
   "source": [
    "inputs"
   ]
  },
  {
   "cell_type": "code",
   "execution_count": 25,
   "id": "abd0527d-62e2-4425-bd4f-d5de3bb7b75c",
   "metadata": {},
   "outputs": [
    {
     "ename": "TypeError",
     "evalue": "__init__() got an unexpected keyword argument 'reduction'",
     "output_type": "error",
     "traceback": [
      "\u001b[1;31m---------------------------------------------------------------------------\u001b[0m",
      "\u001b[1;31mTypeError\u001b[0m                                 Traceback (most recent call last)",
      "Cell \u001b[1;32mIn[25], line 1\u001b[0m\n\u001b[1;32m----> 1\u001b[0m model \u001b[38;5;241m=\u001b[39m \u001b[43mkeras\u001b[49m\u001b[38;5;241;43m.\u001b[39;49m\u001b[43mmodels\u001b[49m\u001b[38;5;241;43m.\u001b[39;49m\u001b[43mload_model\u001b[49m\u001b[43m(\u001b[49m\u001b[38;5;124;43m'\u001b[39;49m\u001b[38;5;124;43m../all_models/boston_hous_model.h5\u001b[39;49m\u001b[38;5;124;43m'\u001b[39;49m\u001b[43m)\u001b[49m\n",
      "File \u001b[1;32mC:\\ProgramData\\anaconda3\\envs\\tf_gpu\\lib\\site-packages\\keras\\utils\\traceback_utils.py:70\u001b[0m, in \u001b[0;36mfilter_traceback.<locals>.error_handler\u001b[1;34m(*args, **kwargs)\u001b[0m\n\u001b[0;32m     67\u001b[0m     filtered_tb \u001b[38;5;241m=\u001b[39m _process_traceback_frames(e\u001b[38;5;241m.\u001b[39m__traceback__)\n\u001b[0;32m     68\u001b[0m     \u001b[38;5;66;03m# To get the full stack trace, call:\u001b[39;00m\n\u001b[0;32m     69\u001b[0m     \u001b[38;5;66;03m# `tf.debugging.disable_traceback_filtering()`\u001b[39;00m\n\u001b[1;32m---> 70\u001b[0m     \u001b[38;5;28;01mraise\u001b[39;00m e\u001b[38;5;241m.\u001b[39mwith_traceback(filtered_tb) \u001b[38;5;28;01mfrom\u001b[39;00m \u001b[38;5;28;01mNone\u001b[39;00m\n\u001b[0;32m     71\u001b[0m \u001b[38;5;28;01mfinally\u001b[39;00m:\n\u001b[0;32m     72\u001b[0m     \u001b[38;5;28;01mdel\u001b[39;00m filtered_tb\n",
      "File \u001b[1;32mC:\\ProgramData\\anaconda3\\envs\\tf_gpu\\lib\\site-packages\\keras\\dtensor\\utils.py:144\u001b[0m, in \u001b[0;36minject_mesh.<locals>._wrap_function\u001b[1;34m(instance, *args, **kwargs)\u001b[0m\n\u001b[0;32m    142\u001b[0m \u001b[38;5;28;01mif\u001b[39;00m mesh \u001b[38;5;129;01mis\u001b[39;00m \u001b[38;5;129;01mnot\u001b[39;00m \u001b[38;5;28;01mNone\u001b[39;00m:\n\u001b[0;32m    143\u001b[0m     instance\u001b[38;5;241m.\u001b[39m_mesh \u001b[38;5;241m=\u001b[39m mesh\n\u001b[1;32m--> 144\u001b[0m init_method(instance, \u001b[38;5;241m*\u001b[39margs, \u001b[38;5;241m*\u001b[39m\u001b[38;5;241m*\u001b[39mkwargs)\n",
      "\u001b[1;31mTypeError\u001b[0m: __init__() got an unexpected keyword argument 'reduction'"
     ]
    }
   ],
   "source": [
    "model = keras.models.load_model('../all_models/boston_hous_model.h5')"
   ]
  }
 ],
 "metadata": {
  "kernelspec": {
   "display_name": "tf_gpu",
   "language": "python",
   "name": "tf_gpu"
  },
  "language_info": {
   "codemirror_mode": {
    "name": "ipython",
    "version": 3
   },
   "file_extension": ".py",
   "mimetype": "text/x-python",
   "name": "python",
   "nbconvert_exporter": "python",
   "pygments_lexer": "ipython3",
   "version": "3.9.2"
  }
 },
 "nbformat": 4,
 "nbformat_minor": 5
}
