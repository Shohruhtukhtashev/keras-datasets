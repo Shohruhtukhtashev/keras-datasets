{
 "cells": [
  {
   "cell_type": "code",
   "execution_count": 3,
   "id": "2215be11-79cf-42a2-8c42-91acf34b7f4d",
   "metadata": {},
   "outputs": [],
   "source": [
    "import tensorflow as tf\n",
    "import keras\n",
    "import numpy as np \n",
    "import matplotlib.pyplot as plt"
   ]
  },
  {
   "cell_type": "markdown",
   "id": "174ade06-1b74-4239-ad73-5ea8b95b4343",
   "metadata": {},
   "source": [
    "cifar100 dadaset load"
   ]
  },
  {
   "cell_type": "code",
   "execution_count": 2,
   "id": "1adfdaf3-9d24-4d3e-b3fe-e03c2f565d06",
   "metadata": {
    "scrolled": true
   },
   "outputs": [
    {
     "data": {
      "text/plain": [
       "((array([[[[255, 255, 255],\n",
       "           [255, 255, 255],\n",
       "           [255, 255, 255],\n",
       "           ...,\n",
       "           [195, 205, 193],\n",
       "           [212, 224, 204],\n",
       "           [182, 194, 167]],\n",
       "  \n",
       "          [[255, 255, 255],\n",
       "           [254, 254, 254],\n",
       "           [254, 254, 254],\n",
       "           ...,\n",
       "           [170, 176, 150],\n",
       "           [161, 168, 130],\n",
       "           [146, 154, 113]],\n",
       "  \n",
       "          [[255, 255, 255],\n",
       "           [254, 254, 254],\n",
       "           [255, 255, 255],\n",
       "           ...,\n",
       "           [189, 199, 169],\n",
       "           [166, 178, 130],\n",
       "           [121, 133,  87]],\n",
       "  \n",
       "          ...,\n",
       "  \n",
       "          [[148, 185,  79],\n",
       "           [142, 182,  57],\n",
       "           [140, 179,  60],\n",
       "           ...,\n",
       "           [ 30,  17,   1],\n",
       "           [ 65,  62,  15],\n",
       "           [ 76,  77,  20]],\n",
       "  \n",
       "          [[122, 157,  66],\n",
       "           [120, 155,  58],\n",
       "           [126, 160,  71],\n",
       "           ...,\n",
       "           [ 22,  16,   3],\n",
       "           [ 97, 112,  56],\n",
       "           [141, 161,  87]],\n",
       "  \n",
       "          [[ 87, 122,  41],\n",
       "           [ 88, 122,  39],\n",
       "           [101, 134,  56],\n",
       "           ...,\n",
       "           [ 34,  36,  10],\n",
       "           [105, 133,  59],\n",
       "           [138, 173,  79]]],\n",
       "  \n",
       "  \n",
       "         [[[255, 255, 255],\n",
       "           [253, 253, 253],\n",
       "           [253, 253, 253],\n",
       "           ...,\n",
       "           [253, 253, 253],\n",
       "           [253, 253, 253],\n",
       "           [255, 255, 255]],\n",
       "  \n",
       "          [[255, 255, 255],\n",
       "           [255, 255, 255],\n",
       "           [255, 255, 255],\n",
       "           ...,\n",
       "           [255, 255, 255],\n",
       "           [255, 255, 255],\n",
       "           [255, 255, 255]],\n",
       "  \n",
       "          [[255, 255, 255],\n",
       "           [255, 255, 255],\n",
       "           [255, 255, 255],\n",
       "           ...,\n",
       "           [255, 255, 255],\n",
       "           [255, 255, 255],\n",
       "           [255, 255, 255]],\n",
       "  \n",
       "          ...,\n",
       "  \n",
       "          [[255, 255, 255],\n",
       "           [255, 255, 255],\n",
       "           [255, 255, 255],\n",
       "           ...,\n",
       "           [255, 255, 255],\n",
       "           [255, 255, 255],\n",
       "           [255, 255, 255]],\n",
       "  \n",
       "          [[255, 255, 255],\n",
       "           [255, 255, 255],\n",
       "           [255, 255, 255],\n",
       "           ...,\n",
       "           [255, 255, 255],\n",
       "           [255, 255, 255],\n",
       "           [255, 255, 255]],\n",
       "  \n",
       "          [[255, 255, 255],\n",
       "           [253, 253, 253],\n",
       "           [253, 253, 253],\n",
       "           ...,\n",
       "           [253, 253, 253],\n",
       "           [253, 253, 253],\n",
       "           [255, 255, 255]]],\n",
       "  \n",
       "  \n",
       "         [[[250, 250, 248],\n",
       "           [248, 249, 243],\n",
       "           [247, 248, 239],\n",
       "           ...,\n",
       "           [250, 250, 246],\n",
       "           [250, 250, 246],\n",
       "           [249, 250, 246]],\n",
       "  \n",
       "          [[250, 251, 245],\n",
       "           [248, 249, 238],\n",
       "           [247, 247, 234],\n",
       "           ...,\n",
       "           [251, 251, 242],\n",
       "           [251, 252, 243],\n",
       "           [250, 251, 243]],\n",
       "  \n",
       "          [[251, 251, 244],\n",
       "           [250, 248, 237],\n",
       "           [250, 245, 233],\n",
       "           ...,\n",
       "           [250, 249, 238],\n",
       "           [250, 249, 240],\n",
       "           [250, 249, 242]],\n",
       "  \n",
       "          ...,\n",
       "  \n",
       "          [[221, 213, 191],\n",
       "           [221, 206, 176],\n",
       "           [225, 207, 181],\n",
       "           ...,\n",
       "           [199, 176, 134],\n",
       "           [207, 193, 165],\n",
       "           [233, 229, 226]],\n",
       "  \n",
       "          [[225, 223, 204],\n",
       "           [227, 219, 196],\n",
       "           [229, 216, 200],\n",
       "           ...,\n",
       "           [204, 185, 151],\n",
       "           [212, 201, 180],\n",
       "           [234, 232, 228]],\n",
       "  \n",
       "          [[233, 233, 226],\n",
       "           [234, 232, 224],\n",
       "           [235, 230, 225],\n",
       "           ...,\n",
       "           [219, 209, 194],\n",
       "           [223, 216, 207],\n",
       "           [232, 230, 228]]],\n",
       "  \n",
       "  \n",
       "         ...,\n",
       "  \n",
       "  \n",
       "         [[[248, 244, 242],\n",
       "           [240, 232, 223],\n",
       "           [236, 232, 223],\n",
       "           ...,\n",
       "           [233, 229, 222],\n",
       "           [230, 228, 222],\n",
       "           [238, 237, 233]],\n",
       "  \n",
       "          [[225, 213, 204],\n",
       "           [186, 167, 149],\n",
       "           [175, 159, 140],\n",
       "           ...,\n",
       "           [163, 148, 134],\n",
       "           [156, 144, 133],\n",
       "           [192, 184, 176]],\n",
       "  \n",
       "          [[209, 194, 179],\n",
       "           [144, 120,  95],\n",
       "           [139, 115,  87],\n",
       "           ...,\n",
       "           [109,  86,  67],\n",
       "           [109,  90,  76],\n",
       "           [157, 145, 135]],\n",
       "  \n",
       "          ...,\n",
       "  \n",
       "          [[161, 159, 153],\n",
       "           [ 39,  34,  28],\n",
       "           [ 28,  20,  14],\n",
       "           ...,\n",
       "           [ 93,  72,  53],\n",
       "           [ 85,  67,  50],\n",
       "           [136, 126, 115]],\n",
       "  \n",
       "          [[181, 179, 172],\n",
       "           [ 86,  83,  77],\n",
       "           [ 71,  68,  62],\n",
       "           ...,\n",
       "           [122, 103,  89],\n",
       "           [105,  92,  82],\n",
       "           [151, 145, 141]],\n",
       "  \n",
       "          [[224, 223, 218],\n",
       "           [180, 180, 175],\n",
       "           [173, 172, 167],\n",
       "           ...,\n",
       "           [196, 187, 180],\n",
       "           [183, 178, 174],\n",
       "           [204, 205, 205]]],\n",
       "  \n",
       "  \n",
       "         [[[156, 154, 137],\n",
       "           [151, 146, 123],\n",
       "           [151, 144, 125],\n",
       "           ...,\n",
       "           [155, 150, 129],\n",
       "           [152, 148, 125],\n",
       "           [186, 184, 163]],\n",
       "  \n",
       "          [[110, 106,  77],\n",
       "           [116, 108,  62],\n",
       "           [114, 101,  57],\n",
       "           ...,\n",
       "           [116, 106,  61],\n",
       "           [111, 103,  56],\n",
       "           [134, 129,  92]],\n",
       "  \n",
       "          [[116, 112,  82],\n",
       "           [124, 118,  66],\n",
       "           [128, 118,  67],\n",
       "           ...,\n",
       "           [ 99,  84,  43],\n",
       "           [101,  87,  43],\n",
       "           [129, 118,  86]],\n",
       "  \n",
       "          ...,\n",
       "  \n",
       "          [[109, 101,  74],\n",
       "           [112, 100,  54],\n",
       "           [118, 105,  62],\n",
       "           ...,\n",
       "           [126, 113,  65],\n",
       "           [126, 111,  61],\n",
       "           [138, 124,  89]],\n",
       "  \n",
       "          [[ 98,  92,  63],\n",
       "           [ 93,  82,  35],\n",
       "           [ 96,  83,  38],\n",
       "           ...,\n",
       "           [112,  96,  47],\n",
       "           [109,  92,  45],\n",
       "           [127, 113,  80]],\n",
       "  \n",
       "          [[170, 167, 145],\n",
       "           [160, 153, 118],\n",
       "           [163, 152, 119],\n",
       "           ...,\n",
       "           [161, 151, 114],\n",
       "           [156, 144, 107],\n",
       "           [163, 154, 126]]],\n",
       "  \n",
       "  \n",
       "         [[[ 31,  67, 122],\n",
       "           [ 30,  68, 124],\n",
       "           [ 31,  69, 126],\n",
       "           ...,\n",
       "           [ 32,  70, 129],\n",
       "           [ 32,  70, 125],\n",
       "           [ 32,  69, 122]],\n",
       "  \n",
       "          [[ 29,  68, 126],\n",
       "           [ 28,  69, 128],\n",
       "           [ 30,  69, 130],\n",
       "           ...,\n",
       "           [ 32,  70, 131],\n",
       "           [ 32,  69, 127],\n",
       "           [ 31,  69, 124]],\n",
       "  \n",
       "          [[ 30,  67, 126],\n",
       "           [ 29,  68, 128],\n",
       "           [ 30,  69, 130],\n",
       "           ...,\n",
       "           [ 32,  72, 132],\n",
       "           [ 31,  70, 130],\n",
       "           [ 30,  69, 127]],\n",
       "  \n",
       "          ...,\n",
       "  \n",
       "          [[ 39,  41,  76],\n",
       "           [ 38,  42,  76],\n",
       "           [ 38,  44,  78],\n",
       "           ...,\n",
       "           [ 39,  44,  79],\n",
       "           [ 38,  42,  77],\n",
       "           [ 39,  41,  76]],\n",
       "  \n",
       "          [[ 40,  39,  73],\n",
       "           [ 39,  40,  74],\n",
       "           [ 39,  41,  76],\n",
       "           ...,\n",
       "           [ 39,  41,  76],\n",
       "           [ 40,  41,  74],\n",
       "           [ 40,  39,  73]],\n",
       "  \n",
       "          [[ 40,  39,  70],\n",
       "           [ 40,  39,  71],\n",
       "           [ 40,  39,  72],\n",
       "           ...,\n",
       "           [ 41,  38,  72],\n",
       "           [ 39,  38,  69],\n",
       "           [ 40,  37,  67]]]], dtype=uint8),\n",
       "  array([[19],\n",
       "         [29],\n",
       "         [ 0],\n",
       "         ...,\n",
       "         [ 3],\n",
       "         [ 7],\n",
       "         [73]])),\n",
       " (array([[[[199, 215, 249],\n",
       "           [196, 211, 244],\n",
       "           [195, 210, 243],\n",
       "           ...,\n",
       "           [216, 231, 250],\n",
       "           [217, 231, 250],\n",
       "           [224, 234, 252]],\n",
       "  \n",
       "          [[197, 210, 239],\n",
       "           [195, 208, 238],\n",
       "           [195, 210, 240],\n",
       "           ...,\n",
       "           [231, 243, 250],\n",
       "           [233, 243, 250],\n",
       "           [241, 245, 253]],\n",
       "  \n",
       "          [[222, 226, 246],\n",
       "           [213, 220, 242],\n",
       "           [209, 219, 243],\n",
       "           ...,\n",
       "           [243, 250, 251],\n",
       "           [244, 249, 251],\n",
       "           [250, 250, 253]],\n",
       "  \n",
       "          ...,\n",
       "  \n",
       "          [[ 72,  73,  99],\n",
       "           [ 71,  74, 102],\n",
       "           [ 74,  78, 108],\n",
       "           ...,\n",
       "           [220, 208, 217],\n",
       "           [183, 168, 181],\n",
       "           [155, 141, 150]],\n",
       "  \n",
       "          [[ 72,  75, 104],\n",
       "           [ 76,  81, 111],\n",
       "           [ 84,  89, 122],\n",
       "           ...,\n",
       "           [222, 212, 220],\n",
       "           [187, 174, 192],\n",
       "           [145, 132, 149]],\n",
       "  \n",
       "          [[ 80,  85, 118],\n",
       "           [ 84,  90, 123],\n",
       "           [ 85,  92, 127],\n",
       "           ...,\n",
       "           [217, 207, 215],\n",
       "           [207, 194, 211],\n",
       "           [176, 164, 183]]],\n",
       "  \n",
       "  \n",
       "         [[[113, 130,  98],\n",
       "           [ 88, 105,  73],\n",
       "           [ 72,  89,  58],\n",
       "           ...,\n",
       "           [105, 124,  93],\n",
       "           [ 86, 106,  74],\n",
       "           [ 63,  82,  55]],\n",
       "  \n",
       "          [[ 95, 113,  80],\n",
       "           [ 78,  97,  64],\n",
       "           [ 62,  80,  49],\n",
       "           ...,\n",
       "           [103, 122,  84],\n",
       "           [ 89, 109,  70],\n",
       "           [ 65,  83,  49]],\n",
       "  \n",
       "          [[ 79,  97,  62],\n",
       "           [ 65,  82,  49],\n",
       "           [ 52,  67,  37],\n",
       "           ...,\n",
       "           [ 65,  79,  52],\n",
       "           [ 62,  79,  51],\n",
       "           [ 49,  64,  38]],\n",
       "  \n",
       "          ...,\n",
       "  \n",
       "          [[121, 102,  86],\n",
       "           [127, 108,  96],\n",
       "           [139, 121, 111],\n",
       "           ...,\n",
       "           [ 80, 100,  71],\n",
       "           [ 75,  95,  68],\n",
       "           [ 66,  85,  62]],\n",
       "  \n",
       "          [[170, 145, 131],\n",
       "           [167, 145, 132],\n",
       "           [159, 140, 128],\n",
       "           ...,\n",
       "           [100, 113,  84],\n",
       "           [ 89, 103,  77],\n",
       "           [ 73,  87,  64]],\n",
       "  \n",
       "          [[168, 150, 135],\n",
       "           [170, 152, 137],\n",
       "           [173, 156, 141],\n",
       "           ...,\n",
       "           [118, 123,  96],\n",
       "           [ 99, 106,  80],\n",
       "           [ 84,  92,  67]]],\n",
       "  \n",
       "  \n",
       "         [[[ 61,  90, 120],\n",
       "           [ 61,  89, 119],\n",
       "           [ 67,  96, 125],\n",
       "           ...,\n",
       "           [ 70,  93, 124],\n",
       "           [ 64,  87, 118],\n",
       "           [ 64,  88, 119]],\n",
       "  \n",
       "          [[ 67,  97, 127],\n",
       "           [ 78, 108, 138],\n",
       "           [ 80, 109, 139],\n",
       "           ...,\n",
       "           [ 95, 113, 142],\n",
       "           [ 83, 101, 129],\n",
       "           [ 83, 102, 130]],\n",
       "  \n",
       "          [[ 64,  93, 123],\n",
       "           [ 66,  95, 125],\n",
       "           [ 61,  90, 120],\n",
       "           ...,\n",
       "           [120, 134, 160],\n",
       "           [109, 123, 150],\n",
       "           [112, 126, 152]],\n",
       "  \n",
       "          ...,\n",
       "  \n",
       "          [[ 84,  87,  87],\n",
       "           [ 67,  59,  38],\n",
       "           [ 84,  78,  33],\n",
       "           ...,\n",
       "           [204, 167, 160],\n",
       "           [235, 202, 192],\n",
       "           [236, 206, 193]],\n",
       "  \n",
       "          [[ 72,  64,  54],\n",
       "           [ 70,  54,  30],\n",
       "           [ 84,  79,  40],\n",
       "           ...,\n",
       "           [199, 157, 152],\n",
       "           [190, 150, 142],\n",
       "           [196, 161, 149]],\n",
       "  \n",
       "          [[ 72,  61,  47],\n",
       "           [ 76,  64,  35],\n",
       "           [ 77,  74,  37],\n",
       "           ...,\n",
       "           [227, 191, 189],\n",
       "           [155, 119, 115],\n",
       "           [134,  98,  89]]],\n",
       "  \n",
       "  \n",
       "         ...,\n",
       "  \n",
       "  \n",
       "         [[[ 24,  38,  31],\n",
       "           [ 24,  40,  31],\n",
       "           [ 22,  34,  28],\n",
       "           ...,\n",
       "           [ 56,  59,  55],\n",
       "           [ 35,  40,  37],\n",
       "           [ 25,  35,  32]],\n",
       "  \n",
       "          [[ 19,  29,  26],\n",
       "           [ 28,  45,  35],\n",
       "           [ 25,  40,  29],\n",
       "           ...,\n",
       "           [ 55,  57,  58],\n",
       "           [ 38,  42,  44],\n",
       "           [ 36,  44,  39]],\n",
       "  \n",
       "          [[ 23,  38,  28],\n",
       "           [ 31,  51,  35],\n",
       "           [ 29,  50,  32],\n",
       "           ...,\n",
       "           [ 33,  41,  36],\n",
       "           [ 33,  37,  41],\n",
       "           [ 42,  49,  44]],\n",
       "  \n",
       "          ...,\n",
       "  \n",
       "          [[ 39,  73,  29],\n",
       "           [ 47,  95,  25],\n",
       "           [ 61, 104,  44],\n",
       "           ...,\n",
       "           [ 41,  79,  35],\n",
       "           [ 71, 103,  72],\n",
       "           [ 54,  93,  53]],\n",
       "  \n",
       "          [[ 39,  72,  34],\n",
       "           [ 40,  91,  18],\n",
       "           [ 51,  96,  33],\n",
       "           ...,\n",
       "           [ 33,  70,  24],\n",
       "           [ 67, 100,  62],\n",
       "           [ 61, 101,  55]],\n",
       "  \n",
       "          [[ 48,  89,  33],\n",
       "           [ 37,  83,  17],\n",
       "           [ 46,  91,  24],\n",
       "           ...,\n",
       "           [ 33,  66,  20],\n",
       "           [ 65,  95,  54],\n",
       "           [ 60,  94,  54]]],\n",
       "  \n",
       "  \n",
       "         [[[ 86,  90,  80],\n",
       "           [ 93,  90,  75],\n",
       "           [ 28,  25,  21],\n",
       "           ...,\n",
       "           [ 73,  52,  36],\n",
       "           [ 67,  49,  39],\n",
       "           [ 92,  71,  61]],\n",
       "  \n",
       "          [[ 82,  86,  80],\n",
       "           [ 43,  44,  41],\n",
       "           [ 17,  17,  18],\n",
       "           ...,\n",
       "           [ 65,  42,  28],\n",
       "           [ 34,  23,  16],\n",
       "           [ 56,  41,  33]],\n",
       "  \n",
       "          [[ 64,  66,  60],\n",
       "           [ 25,  27,  26],\n",
       "           [ 39,  39,  39],\n",
       "           ...,\n",
       "           [ 54,  37,  24],\n",
       "           [ 34,  25,  19],\n",
       "           [ 40,  31,  22]],\n",
       "  \n",
       "          ...,\n",
       "  \n",
       "          [[ 43,  43,  39],\n",
       "           [ 87,  82,  70],\n",
       "           [112, 105,  91],\n",
       "           ...,\n",
       "           [130, 130, 123],\n",
       "           [128, 126, 121],\n",
       "           [119, 121, 119]],\n",
       "  \n",
       "          [[ 44,  42,  35],\n",
       "           [ 79,  74,  62],\n",
       "           [ 99,  95,  82],\n",
       "           ...,\n",
       "           [135, 133, 123],\n",
       "           [130, 127, 119],\n",
       "           [121, 120, 114]],\n",
       "  \n",
       "          [[ 85,  82,  70],\n",
       "           [ 97,  91,  77],\n",
       "           [ 90,  88,  76],\n",
       "           ...,\n",
       "           [132, 128, 119],\n",
       "           [129, 124, 115],\n",
       "           [120, 117, 109]]],\n",
       "  \n",
       "  \n",
       "         [[[246, 246, 242],\n",
       "           [240, 238, 232],\n",
       "           [214, 212, 199],\n",
       "           ...,\n",
       "           [ 74,  32,  35],\n",
       "           [ 77,  34,  37],\n",
       "           [ 81,  34,  35]],\n",
       "  \n",
       "          [[210, 205, 196],\n",
       "           [243, 240, 230],\n",
       "           [229, 225, 214],\n",
       "           ...,\n",
       "           [ 75,  33,  35],\n",
       "           [ 79,  35,  38],\n",
       "           [ 83,  34,  36]],\n",
       "  \n",
       "          [[144, 134, 112],\n",
       "           [175, 163, 144],\n",
       "           [158, 144, 130],\n",
       "           ...,\n",
       "           [ 74,  33,  35],\n",
       "           [ 79,  35,  38],\n",
       "           [ 82,  33,  36]],\n",
       "  \n",
       "          ...,\n",
       "  \n",
       "          [[198, 190, 176],\n",
       "           [111, 111,  66],\n",
       "           [ 58,  55,  27],\n",
       "           ...,\n",
       "           [ 62,  81,  41],\n",
       "           [ 72, 100,  41],\n",
       "           [ 80, 107,  49]],\n",
       "  \n",
       "          [[167, 160, 144],\n",
       "           [ 62,  64,  27],\n",
       "           [ 85,  85,  68],\n",
       "           ...,\n",
       "           [ 92, 126,  58],\n",
       "           [143, 183, 104],\n",
       "           [160, 199, 118]],\n",
       "  \n",
       "          [[115, 108,  94],\n",
       "           [ 42,  37,  21],\n",
       "           [139, 136, 127],\n",
       "           ...,\n",
       "           [139, 172, 114],\n",
       "           [167, 204, 141],\n",
       "           [146, 182, 118]]]], dtype=uint8),\n",
       "  array([[49],\n",
       "         [33],\n",
       "         [72],\n",
       "         ...,\n",
       "         [51],\n",
       "         [42],\n",
       "         [70]])))"
      ]
     },
     "execution_count": 2,
     "metadata": {},
     "output_type": "execute_result"
    }
   ],
   "source": [
    "tf.keras.datasets.cifar100.load_data(label_mode='fine')"
   ]
  },
  {
   "cell_type": "code",
   "execution_count": 8,
   "id": "116229e2-20a5-42ab-8d7c-7316f8289497",
   "metadata": {},
   "outputs": [],
   "source": [
    "(x_train,y_train),(x_test,y_test) = keras.datasets.cifar100.load_data()"
   ]
  },
  {
   "cell_type": "code",
   "execution_count": 3,
   "id": "c55a0447-6272-40b8-a7f8-6e092e541a18",
   "metadata": {},
   "outputs": [
    {
     "data": {
      "text/plain": [
       "(50000, 32, 32, 3)"
      ]
     },
     "execution_count": 3,
     "metadata": {},
     "output_type": "execute_result"
    }
   ],
   "source": [
    "x_train.shape"
   ]
  },
  {
   "cell_type": "code",
   "execution_count": 4,
   "id": "db88f358-01d6-4529-ada8-3c63796b3255",
   "metadata": {},
   "outputs": [
    {
     "data": {
      "text/plain": [
       "(10000, 32, 32, 3)"
      ]
     },
     "execution_count": 4,
     "metadata": {},
     "output_type": "execute_result"
    }
   ],
   "source": [
    "x_test.shape"
   ]
  },
  {
   "cell_type": "code",
   "execution_count": 5,
   "id": "f8cfca32-5699-480a-bc54-8f4091b115a0",
   "metadata": {},
   "outputs": [
    {
     "data": {
      "text/plain": [
       "(32, 32, 3)"
      ]
     },
     "execution_count": 5,
     "metadata": {},
     "output_type": "execute_result"
    }
   ],
   "source": [
    "x_train[0].shape"
   ]
  },
  {
   "cell_type": "code",
   "execution_count": 6,
   "id": "04ec1bda-52ea-4597-b763-b227674f38bc",
   "metadata": {},
   "outputs": [],
   "source": [
    "x_train = x_train/255\n",
    "x_test = x_test/255"
   ]
  },
  {
   "cell_type": "code",
   "execution_count": 7,
   "id": "be237871-aa7c-44b6-b830-e205e7857aec",
   "metadata": {},
   "outputs": [],
   "source": [
    "from keras.models import Sequential\n",
    "from keras.layers import Dense, Conv2D, MaxPool2D, Flatten,BatchNormalization, Dropout\n",
    "from keras.callbacks import ModelCheckpoint, EarlyStopping"
   ]
  },
  {
   "cell_type": "markdown",
   "id": "f4c8fc49-375c-4890-8de8-c36971db7f43",
   "metadata": {},
   "source": [
    "Checkpoints"
   ]
  },
  {
   "cell_type": "code",
   "execution_count": 8,
   "id": "67d70da0-4f36-4193-be5e-ce7cc9d6e169",
   "metadata": {},
   "outputs": [],
   "source": [
    "stopping = EarlyStopping(monitor='val_loss',\n",
    "                        min_delta=0,\n",
    "                        patience=3)\n",
    "\n",
    "modelcheck = ModelCheckpoint('checkpoints/_{epoch}.ckpt',\n",
    "                            monitor='val_loss',\n",
    "                            save_best_only=True)"
   ]
  },
  {
   "cell_type": "markdown",
   "id": "24ea88a4-4c93-4de6-8454-81a3cfc5f67a",
   "metadata": {},
   "source": [
    "Model ANN"
   ]
  },
  {
   "cell_type": "code",
   "execution_count": 10,
   "id": "449627e3-e9eb-4e29-81e6-512bcc20f4ff",
   "metadata": {},
   "outputs": [],
   "source": [
    "model = Sequential([\n",
    "    Flatten(),\n",
    "    Dense(1024, activation='relu'),\n",
    "    Dense(256, activation='relu'),\n",
    "    Dense(100, activation='softmax')\n",
    "])"
   ]
  },
  {
   "cell_type": "code",
   "execution_count": 11,
   "id": "146d078b-0981-43b2-a620-c35ec04c7f13",
   "metadata": {},
   "outputs": [],
   "source": [
    "model.compile(optimizer='SGD',loss='sparse_categorical_crossentropy',metrics=['accuracy'])"
   ]
  },
  {
   "cell_type": "code",
   "execution_count": 37,
   "id": "69057162-6624-4538-87ea-209be7d92260",
   "metadata": {},
   "outputs": [
    {
     "name": "stdout",
     "output_type": "stream",
     "text": [
      "Epoch 1/100\n",
      "1560/1563 [============================>.] - ETA: 0s - loss: 2.9475 - accuracy: 0.2725INFO:tensorflow:Assets written to: checkpoints\\_1.ckpt\\assets\n",
      "1563/1563 [==============================] - 6s 4ms/step - loss: 2.9478 - accuracy: 0.2724 - val_loss: 3.3408 - val_accuracy: 0.2242\n",
      "Epoch 2/100\n",
      "1563/1563 [==============================] - 4s 3ms/step - loss: 2.9435 - accuracy: 0.2717 - val_loss: 3.3435 - val_accuracy: 0.2197\n",
      "Epoch 3/100\n",
      "1563/1563 [==============================] - 4s 3ms/step - loss: 2.9407 - accuracy: 0.2709 - val_loss: 3.3558 - val_accuracy: 0.2194\n",
      "Epoch 4/100\n",
      "1563/1563 [==============================] - 5s 3ms/step - loss: 2.9359 - accuracy: 0.2719 - val_loss: 3.3422 - val_accuracy: 0.2225\n"
     ]
    },
    {
     "data": {
      "text/plain": [
       "<keras.callbacks.History at 0x201eb511610>"
      ]
     },
     "execution_count": 37,
     "metadata": {},
     "output_type": "execute_result"
    }
   ],
   "source": [
    "model.fit(x_train,y_train,epochs=100, validation_data=(x_test,y_test), callbacks=[stopping,modelcheck])"
   ]
  },
  {
   "cell_type": "markdown",
   "id": "d4f8ee0c-d767-43f4-872a-f87d57f029e5",
   "metadata": {},
   "source": [
    "CNN model"
   ]
  },
  {
   "cell_type": "code",
   "execution_count": 9,
   "id": "d212124a-8820-465f-b34b-1f8f8fa66179",
   "metadata": {},
   "outputs": [],
   "source": [
    "model = Sequential()\n",
    "model.add(Conv2D(16,(3,3),padding='same',activation='relu',input_shape=(32,32,3)))\n",
    "model.add(BatchNormalization())\n",
    "model.add(MaxPool2D(2,2))\n",
    "\n",
    "model.add(Conv2D(32,(3,3),padding='same',activation='relu'))\n",
    "model.add(BatchNormalization())\n",
    "model.add(MaxPool2D(2,2))\n",
    "\n",
    "model.add(Conv2D(64,(3,3),padding='same',activation='relu'))\n",
    "model.add(BatchNormalization())\n",
    "model.add(MaxPool2D((2,2)))\n",
    "\n",
    "model.add(Conv2D(128,(3,3),padding='same',activation='relu'))\n",
    "model.add(BatchNormalization())\n",
    "model.add(MaxPool2D(2,2))\n",
    "\n",
    "model.add(Flatten())\n",
    "model.add(Dense(512, activation='relu'))\n",
    "model.add(BatchNormalization())\n",
    "model.add(Dropout(0.25))\n",
    "\n",
    "model.add(Dense(256, activation='relu'))\n",
    "model.add(BatchNormalization())\n",
    "#model.add(Dropout(0.5))\n",
    "\n",
    "model.add(Dense(100,activation='softmax'))"
   ]
  },
  {
   "cell_type": "code",
   "execution_count": 10,
   "id": "b30ad480-47ed-4114-bbb0-dd80250391fa",
   "metadata": {},
   "outputs": [],
   "source": [
    "opt = keras.optimizers.Adam(learning_rate=0.01)\n",
    "model.compile(optimizer=opt,loss='sparse_categorical_crossentropy',metrics=['accuracy'])"
   ]
  },
  {
   "cell_type": "code",
   "execution_count": 11,
   "id": "75d2769d-821e-409d-b909-203783458cc8",
   "metadata": {
    "scrolled": true
   },
   "outputs": [
    {
     "name": "stdout",
     "output_type": "stream",
     "text": [
      "Epoch 1/50\n",
      "1563/1563 [==============================] - ETA: 0s - loss: 3.7250 - accuracy: 0.1352"
     ]
    },
    {
     "name": "stderr",
     "output_type": "stream",
     "text": [
      "WARNING:absl:Found untraced functions such as _jit_compiled_convolution_op, _jit_compiled_convolution_op, _jit_compiled_convolution_op, _jit_compiled_convolution_op while saving (showing 4 of 4). These functions will not be directly callable after loading.\n"
     ]
    },
    {
     "name": "stdout",
     "output_type": "stream",
     "text": [
      "INFO:tensorflow:Assets written to: checkpoints\\_1.ckpt\\assets\n"
     ]
    },
    {
     "name": "stderr",
     "output_type": "stream",
     "text": [
      "INFO:tensorflow:Assets written to: checkpoints\\_1.ckpt\\assets\n"
     ]
    },
    {
     "name": "stdout",
     "output_type": "stream",
     "text": [
      "1563/1563 [==============================] - 21s 11ms/step - loss: 3.7250 - accuracy: 0.1352 - val_loss: 3.5732 - val_accuracy: 0.1703\n",
      "Epoch 2/50\n",
      "1563/1563 [==============================] - ETA: 0s - loss: 3.0647 - accuracy: 0.2377"
     ]
    },
    {
     "name": "stderr",
     "output_type": "stream",
     "text": [
      "WARNING:absl:Found untraced functions such as _jit_compiled_convolution_op, _jit_compiled_convolution_op, _jit_compiled_convolution_op, _jit_compiled_convolution_op while saving (showing 4 of 4). These functions will not be directly callable after loading.\n"
     ]
    },
    {
     "name": "stdout",
     "output_type": "stream",
     "text": [
      "INFO:tensorflow:Assets written to: checkpoints\\_2.ckpt\\assets\n"
     ]
    },
    {
     "name": "stderr",
     "output_type": "stream",
     "text": [
      "INFO:tensorflow:Assets written to: checkpoints\\_2.ckpt\\assets\n"
     ]
    },
    {
     "name": "stdout",
     "output_type": "stream",
     "text": [
      "1563/1563 [==============================] - 16s 11ms/step - loss: 3.0647 - accuracy: 0.2377 - val_loss: 3.0600 - val_accuracy: 0.2457\n",
      "Epoch 3/50\n",
      "1559/1563 [============================>.] - ETA: 0s - loss: 2.7295 - accuracy: 0.3014"
     ]
    },
    {
     "name": "stderr",
     "output_type": "stream",
     "text": [
      "WARNING:absl:Found untraced functions such as _jit_compiled_convolution_op, _jit_compiled_convolution_op, _jit_compiled_convolution_op, _jit_compiled_convolution_op while saving (showing 4 of 4). These functions will not be directly callable after loading.\n"
     ]
    },
    {
     "name": "stdout",
     "output_type": "stream",
     "text": [
      "INFO:tensorflow:Assets written to: checkpoints\\_3.ckpt\\assets\n"
     ]
    },
    {
     "name": "stderr",
     "output_type": "stream",
     "text": [
      "INFO:tensorflow:Assets written to: checkpoints\\_3.ckpt\\assets\n"
     ]
    },
    {
     "name": "stdout",
     "output_type": "stream",
     "text": [
      "1563/1563 [==============================] - 16s 10ms/step - loss: 2.7291 - accuracy: 0.3015 - val_loss: 2.8238 - val_accuracy: 0.2963\n",
      "Epoch 4/50\n",
      "1563/1563 [==============================] - ETA: 0s - loss: 2.5088 - accuracy: 0.3506"
     ]
    },
    {
     "name": "stderr",
     "output_type": "stream",
     "text": [
      "WARNING:absl:Found untraced functions such as _jit_compiled_convolution_op, _jit_compiled_convolution_op, _jit_compiled_convolution_op, _jit_compiled_convolution_op while saving (showing 4 of 4). These functions will not be directly callable after loading.\n"
     ]
    },
    {
     "name": "stdout",
     "output_type": "stream",
     "text": [
      "INFO:tensorflow:Assets written to: checkpoints\\_4.ckpt\\assets\n"
     ]
    },
    {
     "name": "stderr",
     "output_type": "stream",
     "text": [
      "INFO:tensorflow:Assets written to: checkpoints\\_4.ckpt\\assets\n"
     ]
    },
    {
     "name": "stdout",
     "output_type": "stream",
     "text": [
      "1563/1563 [==============================] - 17s 11ms/step - loss: 2.5088 - accuracy: 0.3506 - val_loss: 2.7460 - val_accuracy: 0.3172\n",
      "Epoch 5/50\n",
      "1563/1563 [==============================] - 14s 9ms/step - loss: 2.3261 - accuracy: 0.3832 - val_loss: 2.9221 - val_accuracy: 0.3182\n",
      "Epoch 6/50\n",
      "1561/1563 [============================>.] - ETA: 0s - loss: 2.1889 - accuracy: 0.4174"
     ]
    },
    {
     "name": "stderr",
     "output_type": "stream",
     "text": [
      "WARNING:absl:Found untraced functions such as _jit_compiled_convolution_op, _jit_compiled_convolution_op, _jit_compiled_convolution_op, _jit_compiled_convolution_op while saving (showing 4 of 4). These functions will not be directly callable after loading.\n"
     ]
    },
    {
     "name": "stdout",
     "output_type": "stream",
     "text": [
      "INFO:tensorflow:Assets written to: checkpoints\\_6.ckpt\\assets\n"
     ]
    },
    {
     "name": "stderr",
     "output_type": "stream",
     "text": [
      "INFO:tensorflow:Assets written to: checkpoints\\_6.ckpt\\assets\n"
     ]
    },
    {
     "name": "stdout",
     "output_type": "stream",
     "text": [
      "1563/1563 [==============================] - 16s 10ms/step - loss: 2.1894 - accuracy: 0.4173 - val_loss: 2.3438 - val_accuracy: 0.3981\n",
      "Epoch 7/50\n",
      "1563/1563 [==============================] - 15s 9ms/step - loss: 2.0580 - accuracy: 0.4473 - val_loss: 2.5167 - val_accuracy: 0.3755\n",
      "Epoch 8/50\n",
      "1563/1563 [==============================] - ETA: 0s - loss: 1.9306 - accuracy: 0.4724"
     ]
    },
    {
     "name": "stderr",
     "output_type": "stream",
     "text": [
      "WARNING:absl:Found untraced functions such as _jit_compiled_convolution_op, _jit_compiled_convolution_op, _jit_compiled_convolution_op, _jit_compiled_convolution_op while saving (showing 4 of 4). These functions will not be directly callable after loading.\n"
     ]
    },
    {
     "name": "stdout",
     "output_type": "stream",
     "text": [
      "INFO:tensorflow:Assets written to: checkpoints\\_8.ckpt\\assets\n"
     ]
    },
    {
     "name": "stderr",
     "output_type": "stream",
     "text": [
      "INFO:tensorflow:Assets written to: checkpoints\\_8.ckpt\\assets\n"
     ]
    },
    {
     "name": "stdout",
     "output_type": "stream",
     "text": [
      "1563/1563 [==============================] - 18s 11ms/step - loss: 1.9306 - accuracy: 0.4724 - val_loss: 2.2635 - val_accuracy: 0.4168\n",
      "Epoch 9/50\n",
      "1563/1563 [==============================] - 15s 10ms/step - loss: 1.8225 - accuracy: 0.4975 - val_loss: 2.3248 - val_accuracy: 0.4136\n",
      "Epoch 10/50\n",
      "1563/1563 [==============================] - 14s 9ms/step - loss: 1.7287 - accuracy: 0.5194 - val_loss: 2.2855 - val_accuracy: 0.4326\n",
      "Epoch 11/50\n",
      "1563/1563 [==============================] - 15s 9ms/step - loss: 1.6347 - accuracy: 0.5420 - val_loss: 2.4014 - val_accuracy: 0.4136\n"
     ]
    },
    {
     "data": {
      "text/plain": [
       "<keras.callbacks.History at 0x212091bc640>"
      ]
     },
     "execution_count": 11,
     "metadata": {},
     "output_type": "execute_result"
    }
   ],
   "source": [
    "model.fit(x_train,y_train,validation_data=(x_test,y_test),epochs=50, callbacks=[stopping,modelcheck])"
   ]
  },
  {
   "cell_type": "code",
   "execution_count": 12,
   "id": "68a0e9cf-d298-48e2-be81-f06f1a9d3312",
   "metadata": {},
   "outputs": [
    {
     "name": "stdout",
     "output_type": "stream",
     "text": [
      "313/313 [==============================] - 2s 5ms/step - loss: 2.4014 - accuracy: 0.4136\n"
     ]
    },
    {
     "data": {
      "text/plain": [
       "[2.401444911956787, 0.41359999775886536]"
      ]
     },
     "execution_count": 12,
     "metadata": {},
     "output_type": "execute_result"
    }
   ],
   "source": [
    "model.evaluate(x_test,y_test)"
   ]
  },
  {
   "cell_type": "markdown",
   "id": "06c160a6-26b4-4581-9d19-5207d6b0eefc",
   "metadata": {},
   "source": [
    "model saving"
   ]
  },
  {
   "cell_type": "code",
   "execution_count": 13,
   "id": "b7734031-353c-446c-af11-6675c59efec5",
   "metadata": {},
   "outputs": [],
   "source": [
    "model.save('cifar100.h5')"
   ]
  },
  {
   "cell_type": "code",
   "execution_count": null,
   "id": "6f2d5144-baad-4036-b909-5a751e4b4e95",
   "metadata": {},
   "outputs": [],
   "source": []
  }
 ],
 "metadata": {
  "kernelspec": {
   "display_name": "tf_gpu",
   "language": "python",
   "name": "tf_gpu"
  },
  "language_info": {
   "codemirror_mode": {
    "name": "ipython",
    "version": 3
   },
   "file_extension": ".py",
   "mimetype": "text/x-python",
   "name": "python",
   "nbconvert_exporter": "python",
   "pygments_lexer": "ipython3",
   "version": "3.9.2"
  }
 },
 "nbformat": 4,
 "nbformat_minor": 5
}
